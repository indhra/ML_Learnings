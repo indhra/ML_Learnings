{
 "cells": [
  {
   "cell_type": "markdown",
   "id": "32efe4b9",
   "metadata": {
    "papermill": {
     "duration": 0.006034,
     "end_time": "2024-05-29T12:11:04.764203",
     "exception": false,
     "start_time": "2024-05-29T12:11:04.758169",
     "status": "completed"
    },
    "tags": []
   },
   "source": [
    "https://www.youtube.com/watch?v=-hWKJulmVRI"
   ]
  },
  {
   "cell_type": "markdown",
   "id": "f8eefdef",
   "metadata": {
    "papermill": {
     "duration": 0.005408,
     "end_time": "2024-05-29T12:11:04.775536",
     "exception": false,
     "start_time": "2024-05-29T12:11:04.770128",
     "status": "completed"
    },
    "tags": []
   },
   "source": [
    "# libraries"
   ]
  },
  {
   "cell_type": "code",
   "execution_count": 1,
   "id": "7e4bf6c8",
   "metadata": {
    "execution": {
     "iopub.execute_input": "2024-05-29T12:11:04.788007Z",
     "iopub.status.busy": "2024-05-29T12:11:04.787615Z",
     "iopub.status.idle": "2024-05-29T12:11:04.792260Z",
     "shell.execute_reply": "2024-05-29T12:11:04.791475Z"
    },
    "papermill": {
     "duration": 0.013081,
     "end_time": "2024-05-29T12:11:04.794341",
     "exception": false,
     "start_time": "2024-05-29T12:11:04.781260",
     "status": "completed"
    },
    "tags": []
   },
   "outputs": [],
   "source": [
    "# pip install -Uqq torch==2.0.0"
   ]
  },
  {
   "cell_type": "code",
   "execution_count": 2,
   "id": "4a15d6e2",
   "metadata": {
    "execution": {
     "iopub.execute_input": "2024-05-29T12:11:04.806791Z",
     "iopub.status.busy": "2024-05-29T12:11:04.806509Z",
     "iopub.status.idle": "2024-05-29T12:11:09.553698Z",
     "shell.execute_reply": "2024-05-29T12:11:09.552781Z"
    },
    "papermill": {
     "duration": 4.756208,
     "end_time": "2024-05-29T12:11:09.556249",
     "exception": false,
     "start_time": "2024-05-29T12:11:04.800041",
     "status": "completed"
    },
    "tags": []
   },
   "outputs": [],
   "source": [
    "import torch as tr\n",
    " \n",
    "import numpy as np # linear algebra\n",
    "import pandas as pd # data processing, CSV file I/O (e.g. pd.read_csv)\n",
    " "
   ]
  },
  {
   "cell_type": "code",
   "execution_count": 3,
   "id": "2ba7d50a",
   "metadata": {
    "execution": {
     "iopub.execute_input": "2024-05-29T12:11:09.570332Z",
     "iopub.status.busy": "2024-05-29T12:11:09.569844Z",
     "iopub.status.idle": "2024-05-29T12:11:09.577257Z",
     "shell.execute_reply": "2024-05-29T12:11:09.576283Z"
    },
    "papermill": {
     "duration": 0.016985,
     "end_time": "2024-05-29T12:11:09.579687",
     "exception": false,
     "start_time": "2024-05-29T12:11:09.562702",
     "status": "completed"
    },
    "tags": []
   },
   "outputs": [
    {
     "data": {
      "text/plain": [
       "'2.1.2'"
      ]
     },
     "execution_count": 3,
     "metadata": {},
     "output_type": "execute_result"
    }
   ],
   "source": [
    "tr.__version__"
   ]
  },
  {
   "cell_type": "code",
   "execution_count": 4,
   "id": "8847b994",
   "metadata": {
    "execution": {
     "iopub.execute_input": "2024-05-29T12:11:09.592729Z",
     "iopub.status.busy": "2024-05-29T12:11:09.592462Z",
     "iopub.status.idle": "2024-05-29T12:11:09.647335Z",
     "shell.execute_reply": "2024-05-29T12:11:09.646239Z"
    },
    "papermill": {
     "duration": 0.063732,
     "end_time": "2024-05-29T12:11:09.649640",
     "exception": false,
     "start_time": "2024-05-29T12:11:09.585908",
     "status": "completed"
    },
    "tags": []
   },
   "outputs": [
    {
     "data": {
      "text/plain": [
       "True"
      ]
     },
     "execution_count": 4,
     "metadata": {},
     "output_type": "execute_result"
    }
   ],
   "source": [
    "# check for GPU availability\n",
    "\n",
    "tr.cuda.is_available()"
   ]
  },
  {
   "cell_type": "code",
   "execution_count": 5,
   "id": "0a57dfd6",
   "metadata": {
    "execution": {
     "iopub.execute_input": "2024-05-29T12:11:09.662632Z",
     "iopub.status.busy": "2024-05-29T12:11:09.662321Z",
     "iopub.status.idle": "2024-05-29T12:11:10.761208Z",
     "shell.execute_reply": "2024-05-29T12:11:10.760136Z"
    },
    "papermill": {
     "duration": 1.108231,
     "end_time": "2024-05-29T12:11:10.763790",
     "exception": false,
     "start_time": "2024-05-29T12:11:09.655559",
     "status": "completed"
    },
    "tags": []
   },
   "outputs": [
    {
     "name": "stdout",
     "output_type": "stream",
     "text": [
      "Wed May 29 12:11:10 2024       \r\n",
      "+---------------------------------------------------------------------------------------+\r\n",
      "| NVIDIA-SMI 535.129.03             Driver Version: 535.129.03   CUDA Version: 12.2     |\r\n",
      "|-----------------------------------------+----------------------+----------------------+\r\n",
      "| GPU  Name                 Persistence-M | Bus-Id        Disp.A | Volatile Uncorr. ECC |\r\n",
      "| Fan  Temp   Perf          Pwr:Usage/Cap |         Memory-Usage | GPU-Util  Compute M. |\r\n",
      "|                                         |                      |               MIG M. |\r\n",
      "|=========================================+======================+======================|\r\n",
      "|   0  Tesla P100-PCIE-16GB           Off | 00000000:00:04.0 Off |                    0 |\r\n",
      "| N/A   36C    P0              25W / 250W |      2MiB / 16384MiB |      0%      Default |\r\n",
      "|                                         |                      |                  N/A |\r\n",
      "+-----------------------------------------+----------------------+----------------------+\r\n",
      "                                                                                         \r\n",
      "+---------------------------------------------------------------------------------------+\r\n",
      "| Processes:                                                                            |\r\n",
      "|  GPU   GI   CI        PID   Type   Process name                            GPU Memory |\r\n",
      "|        ID   ID                                                             Usage      |\r\n",
      "|=======================================================================================|\r\n",
      "|  No running processes found                                                           |\r\n",
      "+---------------------------------------------------------------------------------------+\r\n"
     ]
    }
   ],
   "source": [
    "# check for NVIDIA availability\n",
    "\n",
    "!nvidia-smi"
   ]
  },
  {
   "cell_type": "code",
   "execution_count": 6,
   "id": "8d59e325",
   "metadata": {
    "execution": {
     "iopub.execute_input": "2024-05-29T12:11:10.779311Z",
     "iopub.status.busy": "2024-05-29T12:11:10.778957Z",
     "iopub.status.idle": "2024-05-29T12:11:10.787010Z",
     "shell.execute_reply": "2024-05-29T12:11:10.786061Z"
    },
    "papermill": {
     "duration": 0.019097,
     "end_time": "2024-05-29T12:11:10.789275",
     "exception": false,
     "start_time": "2024-05-29T12:11:10.770178",
     "status": "completed"
    },
    "tags": []
   },
   "outputs": [
    {
     "data": {
      "text/plain": [
       "array([[1., 1., 1., 1.],\n",
       "       [1., 1., 1., 1.],\n",
       "       [1., 1., 1., 1.],\n",
       "       [1., 1., 1., 1.]])"
      ]
     },
     "execution_count": 6,
     "metadata": {},
     "output_type": "execute_result"
    }
   ],
   "source": [
    "np.ones([4,4])"
   ]
  },
  {
   "cell_type": "code",
   "execution_count": 7,
   "id": "8bf1073f",
   "metadata": {
    "execution": {
     "iopub.execute_input": "2024-05-29T12:11:10.802422Z",
     "iopub.status.busy": "2024-05-29T12:11:10.802112Z",
     "iopub.status.idle": "2024-05-29T12:11:10.808744Z",
     "shell.execute_reply": "2024-05-29T12:11:10.807680Z"
    },
    "papermill": {
     "duration": 0.015891,
     "end_time": "2024-05-29T12:11:10.811158",
     "exception": false,
     "start_time": "2024-05-29T12:11:10.795267",
     "status": "completed"
    },
    "tags": []
   },
   "outputs": [
    {
     "data": {
      "text/plain": [
       "array([[0.53649919, 0.20871553, 0.46535528, 0.58528326],\n",
       "       [0.82416683, 0.06870308, 0.2997099 , 0.61208519],\n",
       "       [0.62374397, 0.85083377, 0.20800248, 0.13769085],\n",
       "       [0.16567029, 0.61574814, 0.63251312, 0.21111859]])"
      ]
     },
     "execution_count": 7,
     "metadata": {},
     "output_type": "execute_result"
    }
   ],
   "source": [
    "np.random.random([4,4])"
   ]
  },
  {
   "cell_type": "code",
   "execution_count": 8,
   "id": "c4a8b9e3",
   "metadata": {
    "execution": {
     "iopub.execute_input": "2024-05-29T12:11:10.825557Z",
     "iopub.status.busy": "2024-05-29T12:11:10.825276Z",
     "iopub.status.idle": "2024-05-29T12:11:10.833314Z",
     "shell.execute_reply": "2024-05-29T12:11:10.832386Z"
    },
    "papermill": {
     "duration": 0.017298,
     "end_time": "2024-05-29T12:11:10.835554",
     "exception": false,
     "start_time": "2024-05-29T12:11:10.818256",
     "status": "completed"
    },
    "tags": []
   },
   "outputs": [
    {
     "data": {
      "text/plain": [
       "array([[39,  6, 44],\n",
       "       [11, 29, 47],\n",
       "       [24, 34, 16]])"
      ]
     },
     "execution_count": 8,
     "metadata": {},
     "output_type": "execute_result"
    }
   ],
   "source": [
    "# generate random integer values between 3 and 60 of 3X3 matrix\n",
    "\n",
    "np.random.randint(low=3,high=60,size=[3,3]) "
   ]
  },
  {
   "cell_type": "code",
   "execution_count": 9,
   "id": "6f496fd9",
   "metadata": {
    "execution": {
     "iopub.execute_input": "2024-05-29T12:11:10.850035Z",
     "iopub.status.busy": "2024-05-29T12:11:10.849711Z",
     "iopub.status.idle": "2024-05-29T12:11:10.856786Z",
     "shell.execute_reply": "2024-05-29T12:11:10.855813Z"
    },
    "papermill": {
     "duration": 0.016518,
     "end_time": "2024-05-29T12:11:10.859009",
     "exception": false,
     "start_time": "2024-05-29T12:11:10.842491",
     "status": "completed"
    },
    "tags": []
   },
   "outputs": [
    {
     "data": {
      "text/plain": [
       "array([[[0.92048508, 0.71264516, 0.6611916 , 0.43521767],\n",
       "        [0.35386471, 0.3391483 , 0.76814968, 0.11291985],\n",
       "        [0.9176771 , 0.5728869 , 0.95991801, 0.59016925],\n",
       "        [0.01251886, 0.52979104, 0.48318362, 0.55193237]],\n",
       "\n",
       "       [[0.09606358, 0.61116788, 0.5942136 , 0.91388937],\n",
       "        [0.09703349, 0.44033122, 0.82014154, 0.76478417],\n",
       "        [0.92624417, 0.8326894 , 0.49532774, 0.09928504],\n",
       "        [0.50314742, 0.39095703, 0.63355218, 0.18451445]],\n",
       "\n",
       "       [[0.84892505, 0.94956866, 0.89384671, 0.95935126],\n",
       "        [0.03428008, 0.88852995, 0.25116862, 0.19051724],\n",
       "        [0.45509103, 0.47614495, 0.22344466, 0.90240114],\n",
       "        [0.71637424, 0.42707571, 0.48043874, 0.74501013]],\n",
       "\n",
       "       [[0.64727324, 0.07737993, 0.81294556, 0.13623413],\n",
       "        [0.47659222, 0.70995278, 0.02000775, 0.02838072],\n",
       "        [0.45837383, 0.4992739 , 0.34408771, 0.45193249],\n",
       "        [0.46748454, 0.96128374, 0.83596479, 0.86834337]]])"
      ]
     },
     "execution_count": 9,
     "metadata": {},
     "output_type": "execute_result"
    }
   ],
   "source": [
    "np.random.random([4,4,4])"
   ]
  },
  {
   "cell_type": "markdown",
   "id": "380d6321",
   "metadata": {
    "papermill": {
     "duration": 0.006531,
     "end_time": "2024-05-29T12:11:10.871795",
     "exception": false,
     "start_time": "2024-05-29T12:11:10.865264",
     "status": "completed"
    },
    "tags": []
   },
   "source": [
    "# in torch"
   ]
  },
  {
   "cell_type": "code",
   "execution_count": 10,
   "id": "319b8bc4",
   "metadata": {
    "execution": {
     "iopub.execute_input": "2024-05-29T12:11:10.886404Z",
     "iopub.status.busy": "2024-05-29T12:11:10.886109Z",
     "iopub.status.idle": "2024-05-29T12:11:10.971653Z",
     "shell.execute_reply": "2024-05-29T12:11:10.970642Z"
    },
    "papermill": {
     "duration": 0.095352,
     "end_time": "2024-05-29T12:11:10.973732",
     "exception": false,
     "start_time": "2024-05-29T12:11:10.878380",
     "status": "completed"
    },
    "tags": []
   },
   "outputs": [
    {
     "data": {
      "text/plain": [
       "tensor([[1., 1., 1., 1.],\n",
       "        [1., 1., 1., 1.],\n",
       "        [1., 1., 1., 1.],\n",
       "        [1., 1., 1., 1.]])"
      ]
     },
     "execution_count": 10,
     "metadata": {},
     "output_type": "execute_result"
    }
   ],
   "source": [
    "tr.ones([4,4])"
   ]
  },
  {
   "cell_type": "code",
   "execution_count": 11,
   "id": "6e09c3d4",
   "metadata": {
    "execution": {
     "iopub.execute_input": "2024-05-29T12:11:10.988397Z",
     "iopub.status.busy": "2024-05-29T12:11:10.988116Z",
     "iopub.status.idle": "2024-05-29T12:11:10.995816Z",
     "shell.execute_reply": "2024-05-29T12:11:10.994944Z"
    },
    "papermill": {
     "duration": 0.017652,
     "end_time": "2024-05-29T12:11:10.998060",
     "exception": false,
     "start_time": "2024-05-29T12:11:10.980408",
     "status": "completed"
    },
    "tags": []
   },
   "outputs": [
    {
     "data": {
      "text/plain": [
       "tensor([[[1., 1., 1., 1.],\n",
       "         [1., 1., 1., 1.],\n",
       "         [1., 1., 1., 1.],\n",
       "         [1., 1., 1., 1.]],\n",
       "\n",
       "        [[1., 1., 1., 1.],\n",
       "         [1., 1., 1., 1.],\n",
       "         [1., 1., 1., 1.],\n",
       "         [1., 1., 1., 1.]],\n",
       "\n",
       "        [[1., 1., 1., 1.],\n",
       "         [1., 1., 1., 1.],\n",
       "         [1., 1., 1., 1.],\n",
       "         [1., 1., 1., 1.]],\n",
       "\n",
       "        [[1., 1., 1., 1.],\n",
       "         [1., 1., 1., 1.],\n",
       "         [1., 1., 1., 1.],\n",
       "         [1., 1., 1., 1.]]])"
      ]
     },
     "execution_count": 11,
     "metadata": {},
     "output_type": "execute_result"
    }
   ],
   "source": [
    "tr.ones(4,4,4)"
   ]
  },
  {
   "cell_type": "code",
   "execution_count": 12,
   "id": "b499c030",
   "metadata": {
    "execution": {
     "iopub.execute_input": "2024-05-29T12:11:11.013364Z",
     "iopub.status.busy": "2024-05-29T12:11:11.013061Z",
     "iopub.status.idle": "2024-05-29T12:11:11.030722Z",
     "shell.execute_reply": "2024-05-29T12:11:11.029657Z"
    },
    "papermill": {
     "duration": 0.027815,
     "end_time": "2024-05-29T12:11:11.032834",
     "exception": false,
     "start_time": "2024-05-29T12:11:11.005019",
     "status": "completed"
    },
    "tags": []
   },
   "outputs": [
    {
     "data": {
      "text/plain": [
       "tensor([[[[1., 1., 1.,  ..., 1., 1., 1.],\n",
       "          [1., 1., 1.,  ..., 1., 1., 1.],\n",
       "          [1., 1., 1.,  ..., 1., 1., 1.]],\n",
       "\n",
       "         [[1., 1., 1.,  ..., 1., 1., 1.],\n",
       "          [1., 1., 1.,  ..., 1., 1., 1.],\n",
       "          [1., 1., 1.,  ..., 1., 1., 1.]],\n",
       "\n",
       "         [[1., 1., 1.,  ..., 1., 1., 1.],\n",
       "          [1., 1., 1.,  ..., 1., 1., 1.],\n",
       "          [1., 1., 1.,  ..., 1., 1., 1.]]],\n",
       "\n",
       "\n",
       "        [[[1., 1., 1.,  ..., 1., 1., 1.],\n",
       "          [1., 1., 1.,  ..., 1., 1., 1.],\n",
       "          [1., 1., 1.,  ..., 1., 1., 1.]],\n",
       "\n",
       "         [[1., 1., 1.,  ..., 1., 1., 1.],\n",
       "          [1., 1., 1.,  ..., 1., 1., 1.],\n",
       "          [1., 1., 1.,  ..., 1., 1., 1.]],\n",
       "\n",
       "         [[1., 1., 1.,  ..., 1., 1., 1.],\n",
       "          [1., 1., 1.,  ..., 1., 1., 1.],\n",
       "          [1., 1., 1.,  ..., 1., 1., 1.]]],\n",
       "\n",
       "\n",
       "        [[[1., 1., 1.,  ..., 1., 1., 1.],\n",
       "          [1., 1., 1.,  ..., 1., 1., 1.],\n",
       "          [1., 1., 1.,  ..., 1., 1., 1.]],\n",
       "\n",
       "         [[1., 1., 1.,  ..., 1., 1., 1.],\n",
       "          [1., 1., 1.,  ..., 1., 1., 1.],\n",
       "          [1., 1., 1.,  ..., 1., 1., 1.]],\n",
       "\n",
       "         [[1., 1., 1.,  ..., 1., 1., 1.],\n",
       "          [1., 1., 1.,  ..., 1., 1., 1.],\n",
       "          [1., 1., 1.,  ..., 1., 1., 1.]]]])"
      ]
     },
     "execution_count": 12,
     "metadata": {},
     "output_type": "execute_result"
    }
   ],
   "source": [
    "rubiks = tr.ones(3,3,3,110) # a rubiks cube 3X3X3 and over a time of 110 steps\n",
    "rubiks"
   ]
  },
  {
   "cell_type": "code",
   "execution_count": 13,
   "id": "d4e4a8e5",
   "metadata": {
    "execution": {
     "iopub.execute_input": "2024-05-29T12:11:11.050303Z",
     "iopub.status.busy": "2024-05-29T12:11:11.050013Z",
     "iopub.status.idle": "2024-05-29T12:11:11.062744Z",
     "shell.execute_reply": "2024-05-29T12:11:11.061712Z"
    },
    "papermill": {
     "duration": 0.023219,
     "end_time": "2024-05-29T12:11:11.064792",
     "exception": false,
     "start_time": "2024-05-29T12:11:11.041573",
     "status": "completed"
    },
    "tags": []
   },
   "outputs": [
    {
     "data": {
      "text/plain": [
       "tensor([[1., 1., 1., 1., 1., 1., 1., 1., 1., 1., 1., 1., 1., 1., 1., 1., 1., 1.,\n",
       "         1., 1., 1., 1., 1., 1., 1., 1., 1., 1., 1., 1., 1., 1., 1., 1., 1., 1.,\n",
       "         1., 1., 1., 1., 1., 1., 1., 1., 1., 1., 1., 1., 1., 1., 1., 1., 1., 1.,\n",
       "         1., 1., 1., 1., 1., 1., 1., 1., 1., 1., 1., 1., 1., 1., 1., 1., 1., 1.,\n",
       "         1., 1., 1., 1., 1., 1., 1., 1., 1., 1., 1., 1., 1., 1., 1., 1., 1., 1.,\n",
       "         1., 1., 1., 1., 1., 1., 1., 1., 1., 1., 1., 1., 1., 1., 1., 1., 1., 1.,\n",
       "         1., 1.],\n",
       "        [1., 1., 1., 1., 1., 1., 1., 1., 1., 1., 1., 1., 1., 1., 1., 1., 1., 1.,\n",
       "         1., 1., 1., 1., 1., 1., 1., 1., 1., 1., 1., 1., 1., 1., 1., 1., 1., 1.,\n",
       "         1., 1., 1., 1., 1., 1., 1., 1., 1., 1., 1., 1., 1., 1., 1., 1., 1., 1.,\n",
       "         1., 1., 1., 1., 1., 1., 1., 1., 1., 1., 1., 1., 1., 1., 1., 1., 1., 1.,\n",
       "         1., 1., 1., 1., 1., 1., 1., 1., 1., 1., 1., 1., 1., 1., 1., 1., 1., 1.,\n",
       "         1., 1., 1., 1., 1., 1., 1., 1., 1., 1., 1., 1., 1., 1., 1., 1., 1., 1.,\n",
       "         1., 1.],\n",
       "        [1., 1., 1., 1., 1., 1., 1., 1., 1., 1., 1., 1., 1., 1., 1., 1., 1., 1.,\n",
       "         1., 1., 1., 1., 1., 1., 1., 1., 1., 1., 1., 1., 1., 1., 1., 1., 1., 1.,\n",
       "         1., 1., 1., 1., 1., 1., 1., 1., 1., 1., 1., 1., 1., 1., 1., 1., 1., 1.,\n",
       "         1., 1., 1., 1., 1., 1., 1., 1., 1., 1., 1., 1., 1., 1., 1., 1., 1., 1.,\n",
       "         1., 1., 1., 1., 1., 1., 1., 1., 1., 1., 1., 1., 1., 1., 1., 1., 1., 1.,\n",
       "         1., 1., 1., 1., 1., 1., 1., 1., 1., 1., 1., 1., 1., 1., 1., 1., 1., 1.,\n",
       "         1., 1.]])"
      ]
     },
     "execution_count": 13,
     "metadata": {},
     "output_type": "execute_result"
    }
   ],
   "source": [
    "rubiks[0,1,:]"
   ]
  },
  {
   "cell_type": "code",
   "execution_count": 14,
   "id": "683de092",
   "metadata": {
    "execution": {
     "iopub.execute_input": "2024-05-29T12:11:11.081026Z",
     "iopub.status.busy": "2024-05-29T12:11:11.080715Z",
     "iopub.status.idle": "2024-05-29T12:11:11.089712Z",
     "shell.execute_reply": "2024-05-29T12:11:11.088785Z"
    },
    "papermill": {
     "duration": 0.019406,
     "end_time": "2024-05-29T12:11:11.091765",
     "exception": false,
     "start_time": "2024-05-29T12:11:11.072359",
     "status": "completed"
    },
    "tags": []
   },
   "outputs": [
    {
     "data": {
      "text/plain": [
       "(tensor([[0.7032, 0.1599, 0.7671, 0.4091],\n",
       "         [0.3409, 0.5874, 0.6837, 0.0472],\n",
       "         [0.2569, 0.4356, 0.5441, 0.9230],\n",
       "         [0.1229, 0.9409, 0.5616, 0.6949]]),\n",
       " tensor([[0.5543, 0.1652, 0.2411, 0.5457],\n",
       "         [0.8860, 0.5013, 0.9313, 0.5945],\n",
       "         [0.2104, 0.4024, 0.9001, 0.1984],\n",
       "         [0.6890, 0.6046, 0.9529, 0.4048]]))"
      ]
     },
     "execution_count": 14,
     "metadata": {},
     "output_type": "execute_result"
    }
   ],
   "source": [
    "cub1 = tr.rand(4,4)\n",
    "cub2 = tr.rand(4,4)\n",
    "cub1,cub2"
   ]
  },
  {
   "cell_type": "code",
   "execution_count": 15,
   "id": "f195f027",
   "metadata": {
    "execution": {
     "iopub.execute_input": "2024-05-29T12:11:11.108186Z",
     "iopub.status.busy": "2024-05-29T12:11:11.107857Z",
     "iopub.status.idle": "2024-05-29T12:11:11.115583Z",
     "shell.execute_reply": "2024-05-29T12:11:11.114687Z"
    },
    "papermill": {
     "duration": 0.018148,
     "end_time": "2024-05-29T12:11:11.117573",
     "exception": false,
     "start_time": "2024-05-29T12:11:11.099425",
     "status": "completed"
    },
    "tags": []
   },
   "outputs": [
    {
     "data": {
      "text/plain": [
       "tensor([[1.2575, 0.3251, 1.0082, 0.9549],\n",
       "        [1.2269, 1.0887, 1.6151, 0.6417],\n",
       "        [0.4673, 0.8381, 1.4442, 1.1214],\n",
       "        [0.8119, 1.5455, 1.5145, 1.0997]])"
      ]
     },
     "execution_count": 15,
     "metadata": {},
     "output_type": "execute_result"
    }
   ],
   "source": [
    "cub1+cub2"
   ]
  },
  {
   "cell_type": "code",
   "execution_count": null,
   "id": "f7368cb8",
   "metadata": {
    "papermill": {
     "duration": 0.007396,
     "end_time": "2024-05-29T12:11:11.132755",
     "exception": false,
     "start_time": "2024-05-29T12:11:11.125359",
     "status": "completed"
    },
    "tags": []
   },
   "outputs": [],
   "source": []
  }
 ],
 "metadata": {
  "kaggle": {
   "accelerator": "gpu",
   "dataSources": [],
   "dockerImageVersionId": 30699,
   "isGpuEnabled": true,
   "isInternetEnabled": true,
   "language": "python",
   "sourceType": "notebook"
  },
  "kernelspec": {
   "display_name": "Python 3",
   "language": "python",
   "name": "python3"
  },
  "language_info": {
   "codemirror_mode": {
    "name": "ipython",
    "version": 3
   },
   "file_extension": ".py",
   "mimetype": "text/x-python",
   "name": "python",
   "nbconvert_exporter": "python",
   "pygments_lexer": "ipython3",
   "version": "3.10.13"
  },
  "papermill": {
   "default_parameters": {},
   "duration": 10.654028,
   "end_time": "2024-05-29T12:11:12.361685",
   "environment_variables": {},
   "exception": null,
   "input_path": "__notebook__.ipynb",
   "output_path": "__notebook__.ipynb",
   "parameters": {},
   "start_time": "2024-05-29T12:11:01.707657",
   "version": "2.5.0"
  }
 },
 "nbformat": 4,
 "nbformat_minor": 5
}
