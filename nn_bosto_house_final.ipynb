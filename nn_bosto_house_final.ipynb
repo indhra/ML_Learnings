{
  "nbformat": 4,
  "nbformat_minor": 0,
  "metadata": {
    "colab": {
      "name": "nn bosto house final",
      "provenance": [],
      "collapsed_sections": [],
      "authorship_tag": "ABX9TyOQFpWSh9gYmf3DQo348rOt",
      "include_colab_link": true
    },
    "kernelspec": {
      "name": "python3",
      "display_name": "Python 3"
    }
  },
  "cells": [
    {
      "cell_type": "markdown",
      "metadata": {
        "id": "view-in-github",
        "colab_type": "text"
      },
      "source": [
        "<a href=\"https://colab.research.google.com/github/indhra007/neural-network/blob/master/nn_bosto_house_final.ipynb\" target=\"_parent\"><img src=\"https://colab.research.google.com/assets/colab-badge.svg\" alt=\"Open In Colab\"/></a>"
      ]
    },
    {
      "cell_type": "code",
      "metadata": {
        "id": "063m7owmzMob",
        "colab_type": "code",
        "outputId": "77797e9f-d69a-44e3-eff0-2296f3284c49",
        "colab": {
          "base_uri": "https://localhost:8080/",
          "height": 63
        }
      },
      "source": [
        "import matplotlib.pyplot as plt\n",
        "import numpy as np\n",
        "import pandas as pd\n",
        "from sklearn.model_selection import train_test_split\n",
        "from sklearn.model_selection import cross_val_score\n",
        "from sklearn.model_selection import KFold\n",
        "from sklearn.pipeline import Pipeline\n",
        "from sklearn.preprocessing import MinMaxScaler\n",
        "from tensorflow.python.keras.models import Sequential\n",
        "from tensorflow.python.keras.layers import Dense\n",
        "from tensorflow.python.keras.wrappers.scikit_learn import KerasRegressor"
      ],
      "execution_count": 1,
      "outputs": [
        {
          "output_type": "display_data",
          "data": {
            "text/html": [
              "<p style=\"color: red;\">\n",
              "The default version of TensorFlow in Colab will soon switch to TensorFlow 2.x.<br>\n",
              "We recommend you <a href=\"https://www.tensorflow.org/guide/migrate\" target=\"_blank\">upgrade</a> now \n",
              "or ensure your notebook will continue to use TensorFlow 1.x via the <code>%tensorflow_version 1.x</code> magic:\n",
              "<a href=\"https://colab.research.google.com/notebooks/tensorflow_version.ipynb\" target=\"_blank\">more info</a>.</p>\n"
            ],
            "text/plain": [
              "<IPython.core.display.HTML object>"
            ]
          },
          "metadata": {
            "tags": []
          }
        }
      ]
    },
    {
      "cell_type": "code",
      "metadata": {
        "id": "zz7pR5OUzP0t",
        "colab_type": "code",
        "colab": {
          "base_uri": "https://localhost:8080/",
          "height": 51
        },
        "outputId": "c1f8f14d-f864-4147-ac37-e1021c6e578b"
      },
      "source": [
        "#Variables\n",
        "dataset=np.loadtxt(\"car.csv\", delimiter=\",\")\n",
        "x=dataset[:,0:5]\n",
        "y=dataset[:,5]\n",
        "y=np.reshape(y, (-1,1))\n",
        "scaler_x = MinMaxScaler()\n",
        "scaler_y = MinMaxScaler()\n",
        "print(scaler_x.fit(x))\n",
        "xscale=scaler_x.transform(x)\n",
        "print(scaler_y.fit(y))\n",
        "yscale=scaler_y.transform(y)"
      ],
      "execution_count": 16,
      "outputs": [
        {
          "output_type": "stream",
          "text": [
            "MinMaxScaler(copy=True, feature_range=(0, 1))\n",
            "MinMaxScaler(copy=True, feature_range=(0, 1))\n"
          ],
          "name": "stdout"
        }
      ]
    },
    {
      "cell_type": "code",
      "metadata": {
        "id": "qio9FYUE3XlN",
        "colab_type": "code",
        "colab": {}
      },
      "source": [
        "X_train, X_test, y_train, y_test = train_test_split(xscale, yscale)"
      ],
      "execution_count": 0,
      "outputs": []
    },
    {
      "cell_type": "code",
      "metadata": {
        "id": "X0tuff1Q3aop",
        "colab_type": "code",
        "colab": {
          "base_uri": "https://localhost:8080/",
          "height": 255
        },
        "outputId": "689515e8-c62d-4315-8fa5-d57aac1fcc1b"
      },
      "source": [
        "model = Sequential()\n",
        "model.add(Dense(12, input_dim=5, kernel_initializer='normal', activation='relu'))\n",
        "model.add(Dense(8, activation='relu'))\n",
        "model.add(Dense(1, activation='linear'))\n",
        "model.summary()"
      ],
      "execution_count": 18,
      "outputs": [
        {
          "output_type": "stream",
          "text": [
            "Model: \"sequential_1\"\n",
            "_________________________________________________________________\n",
            "Layer (type)                 Output Shape              Param #   \n",
            "=================================================================\n",
            "dense_3 (Dense)              (None, 12)                72        \n",
            "_________________________________________________________________\n",
            "dense_4 (Dense)              (None, 8)                 104       \n",
            "_________________________________________________________________\n",
            "dense_5 (Dense)              (None, 1)                 9         \n",
            "=================================================================\n",
            "Total params: 185\n",
            "Trainable params: 185\n",
            "Non-trainable params: 0\n",
            "_________________________________________________________________\n"
          ],
          "name": "stdout"
        }
      ]
    },
    {
      "cell_type": "code",
      "metadata": {
        "id": "98gBJf4X3cUh",
        "colab_type": "code",
        "colab": {}
      },
      "source": [
        "model.compile(loss='mse', optimizer='adam', metrics=['mse','mae'])"
      ],
      "execution_count": 0,
      "outputs": []
    },
    {
      "cell_type": "code",
      "metadata": {
        "id": "EaJjlcc-3erK",
        "colab_type": "code",
        "colab": {
          "base_uri": "https://localhost:8080/",
          "height": 1000
        },
        "outputId": "198f3713-3066-4f5e-d36d-ba77c0f37ca1"
      },
      "source": [
        "history = model.fit(X_train, y_train, epochs=150, batch_size=50,  verbose=1, validation_split=0.2)"
      ],
      "execution_count": 20,
      "outputs": [
        {
          "output_type": "stream",
          "text": [
            "Train on 577 samples, validate on 145 samples\n",
            "Epoch 1/150\n",
            "577/577 [==============================] - 0s 436us/sample - loss: 0.2411 - mean_squared_error: 0.2411 - mean_absolute_error: 0.3875 - val_loss: 0.1778 - val_mean_squared_error: 0.1778 - val_mean_absolute_error: 0.3179\n",
            "Epoch 2/150\n",
            "577/577 [==============================] - 0s 39us/sample - loss: 0.1767 - mean_squared_error: 0.1767 - mean_absolute_error: 0.3178 - val_loss: 0.1330 - val_mean_squared_error: 0.1330 - val_mean_absolute_error: 0.2667\n",
            "Epoch 3/150\n",
            "577/577 [==============================] - 0s 38us/sample - loss: 0.1301 - mean_squared_error: 0.1301 - mean_absolute_error: 0.2704 - val_loss: 0.0959 - val_mean_squared_error: 0.0959 - val_mean_absolute_error: 0.2329\n",
            "Epoch 4/150\n",
            "577/577 [==============================] - 0s 40us/sample - loss: 0.0916 - mean_squared_error: 0.0916 - mean_absolute_error: 0.2380 - val_loss: 0.0688 - val_mean_squared_error: 0.0688 - val_mean_absolute_error: 0.2132\n",
            "Epoch 5/150\n",
            "577/577 [==============================] - 0s 38us/sample - loss: 0.0668 - mean_squared_error: 0.0668 - mean_absolute_error: 0.2182 - val_loss: 0.0545 - val_mean_squared_error: 0.0545 - val_mean_absolute_error: 0.2019\n",
            "Epoch 6/150\n",
            "577/577 [==============================] - 0s 37us/sample - loss: 0.0537 - mean_squared_error: 0.0537 - mean_absolute_error: 0.2051 - val_loss: 0.0475 - val_mean_squared_error: 0.0475 - val_mean_absolute_error: 0.1923\n",
            "Epoch 7/150\n",
            "577/577 [==============================] - 0s 40us/sample - loss: 0.0460 - mean_squared_error: 0.0460 - mean_absolute_error: 0.1917 - val_loss: 0.0406 - val_mean_squared_error: 0.0406 - val_mean_absolute_error: 0.1783\n",
            "Epoch 8/150\n",
            "577/577 [==============================] - 0s 36us/sample - loss: 0.0383 - mean_squared_error: 0.0383 - mean_absolute_error: 0.1748 - val_loss: 0.0329 - val_mean_squared_error: 0.0329 - val_mean_absolute_error: 0.1595\n",
            "Epoch 9/150\n",
            "577/577 [==============================] - 0s 40us/sample - loss: 0.0306 - mean_squared_error: 0.0306 - mean_absolute_error: 0.1542 - val_loss: 0.0268 - val_mean_squared_error: 0.0268 - val_mean_absolute_error: 0.1402\n",
            "Epoch 10/150\n",
            "577/577 [==============================] - 0s 41us/sample - loss: 0.0248 - mean_squared_error: 0.0248 - mean_absolute_error: 0.1355 - val_loss: 0.0220 - val_mean_squared_error: 0.0220 - val_mean_absolute_error: 0.1228\n",
            "Epoch 11/150\n",
            "577/577 [==============================] - 0s 46us/sample - loss: 0.0203 - mean_squared_error: 0.0203 - mean_absolute_error: 0.1183 - val_loss: 0.0193 - val_mean_squared_error: 0.0193 - val_mean_absolute_error: 0.1115\n",
            "Epoch 12/150\n",
            "577/577 [==============================] - 0s 40us/sample - loss: 0.0176 - mean_squared_error: 0.0176 - mean_absolute_error: 0.1065 - val_loss: 0.0179 - val_mean_squared_error: 0.0179 - val_mean_absolute_error: 0.1057\n",
            "Epoch 13/150\n",
            "577/577 [==============================] - 0s 44us/sample - loss: 0.0160 - mean_squared_error: 0.0160 - mean_absolute_error: 0.0991 - val_loss: 0.0171 - val_mean_squared_error: 0.0171 - val_mean_absolute_error: 0.1013\n",
            "Epoch 14/150\n",
            "577/577 [==============================] - 0s 44us/sample - loss: 0.0154 - mean_squared_error: 0.0154 - mean_absolute_error: 0.0958 - val_loss: 0.0170 - val_mean_squared_error: 0.0170 - val_mean_absolute_error: 0.0997\n",
            "Epoch 15/150\n",
            "577/577 [==============================] - 0s 38us/sample - loss: 0.0149 - mean_squared_error: 0.0149 - mean_absolute_error: 0.0938 - val_loss: 0.0168 - val_mean_squared_error: 0.0168 - val_mean_absolute_error: 0.0984\n",
            "Epoch 16/150\n",
            "577/577 [==============================] - 0s 38us/sample - loss: 0.0148 - mean_squared_error: 0.0148 - mean_absolute_error: 0.0929 - val_loss: 0.0167 - val_mean_squared_error: 0.0167 - val_mean_absolute_error: 0.0979\n",
            "Epoch 17/150\n",
            "577/577 [==============================] - 0s 47us/sample - loss: 0.0146 - mean_squared_error: 0.0146 - mean_absolute_error: 0.0915 - val_loss: 0.0167 - val_mean_squared_error: 0.0167 - val_mean_absolute_error: 0.0981\n",
            "Epoch 18/150\n",
            "577/577 [==============================] - 0s 46us/sample - loss: 0.0146 - mean_squared_error: 0.0146 - mean_absolute_error: 0.0919 - val_loss: 0.0166 - val_mean_squared_error: 0.0166 - val_mean_absolute_error: 0.0973\n",
            "Epoch 19/150\n",
            "577/577 [==============================] - 0s 39us/sample - loss: 0.0144 - mean_squared_error: 0.0144 - mean_absolute_error: 0.0912 - val_loss: 0.0165 - val_mean_squared_error: 0.0165 - val_mean_absolute_error: 0.0976\n",
            "Epoch 20/150\n",
            "577/577 [==============================] - 0s 39us/sample - loss: 0.0144 - mean_squared_error: 0.0144 - mean_absolute_error: 0.0910 - val_loss: 0.0164 - val_mean_squared_error: 0.0164 - val_mean_absolute_error: 0.0968\n",
            "Epoch 21/150\n",
            "577/577 [==============================] - 0s 40us/sample - loss: 0.0142 - mean_squared_error: 0.0142 - mean_absolute_error: 0.0910 - val_loss: 0.0164 - val_mean_squared_error: 0.0164 - val_mean_absolute_error: 0.0971\n",
            "Epoch 22/150\n",
            "577/577 [==============================] - 0s 38us/sample - loss: 0.0142 - mean_squared_error: 0.0142 - mean_absolute_error: 0.0901 - val_loss: 0.0163 - val_mean_squared_error: 0.0163 - val_mean_absolute_error: 0.0970\n",
            "Epoch 23/150\n",
            "577/577 [==============================] - 0s 40us/sample - loss: 0.0141 - mean_squared_error: 0.0141 - mean_absolute_error: 0.0901 - val_loss: 0.0162 - val_mean_squared_error: 0.0162 - val_mean_absolute_error: 0.0964\n",
            "Epoch 24/150\n",
            "577/577 [==============================] - 0s 39us/sample - loss: 0.0142 - mean_squared_error: 0.0142 - mean_absolute_error: 0.0912 - val_loss: 0.0161 - val_mean_squared_error: 0.0161 - val_mean_absolute_error: 0.0968\n",
            "Epoch 25/150\n",
            "577/577 [==============================] - 0s 38us/sample - loss: 0.0141 - mean_squared_error: 0.0141 - mean_absolute_error: 0.0898 - val_loss: 0.0160 - val_mean_squared_error: 0.0160 - val_mean_absolute_error: 0.0962\n",
            "Epoch 26/150\n",
            "577/577 [==============================] - 0s 47us/sample - loss: 0.0139 - mean_squared_error: 0.0139 - mean_absolute_error: 0.0901 - val_loss: 0.0159 - val_mean_squared_error: 0.0159 - val_mean_absolute_error: 0.0959\n",
            "Epoch 27/150\n",
            "577/577 [==============================] - 0s 44us/sample - loss: 0.0139 - mean_squared_error: 0.0139 - mean_absolute_error: 0.0892 - val_loss: 0.0159 - val_mean_squared_error: 0.0159 - val_mean_absolute_error: 0.0957\n",
            "Epoch 28/150\n",
            "577/577 [==============================] - 0s 59us/sample - loss: 0.0137 - mean_squared_error: 0.0137 - mean_absolute_error: 0.0889 - val_loss: 0.0157 - val_mean_squared_error: 0.0157 - val_mean_absolute_error: 0.0953\n",
            "Epoch 29/150\n",
            "577/577 [==============================] - 0s 39us/sample - loss: 0.0139 - mean_squared_error: 0.0139 - mean_absolute_error: 0.0901 - val_loss: 0.0157 - val_mean_squared_error: 0.0157 - val_mean_absolute_error: 0.0952\n",
            "Epoch 30/150\n",
            "577/577 [==============================] - 0s 38us/sample - loss: 0.0136 - mean_squared_error: 0.0136 - mean_absolute_error: 0.0886 - val_loss: 0.0156 - val_mean_squared_error: 0.0156 - val_mean_absolute_error: 0.0950\n",
            "Epoch 31/150\n",
            "577/577 [==============================] - 0s 44us/sample - loss: 0.0135 - mean_squared_error: 0.0135 - mean_absolute_error: 0.0883 - val_loss: 0.0156 - val_mean_squared_error: 0.0156 - val_mean_absolute_error: 0.0951\n",
            "Epoch 32/150\n",
            "577/577 [==============================] - 0s 41us/sample - loss: 0.0135 - mean_squared_error: 0.0135 - mean_absolute_error: 0.0881 - val_loss: 0.0155 - val_mean_squared_error: 0.0155 - val_mean_absolute_error: 0.0947\n",
            "Epoch 33/150\n",
            "577/577 [==============================] - 0s 37us/sample - loss: 0.0135 - mean_squared_error: 0.0135 - mean_absolute_error: 0.0883 - val_loss: 0.0154 - val_mean_squared_error: 0.0154 - val_mean_absolute_error: 0.0943\n",
            "Epoch 34/150\n",
            "577/577 [==============================] - 0s 37us/sample - loss: 0.0134 - mean_squared_error: 0.0134 - mean_absolute_error: 0.0878 - val_loss: 0.0153 - val_mean_squared_error: 0.0153 - val_mean_absolute_error: 0.0942\n",
            "Epoch 35/150\n",
            "577/577 [==============================] - 0s 42us/sample - loss: 0.0133 - mean_squared_error: 0.0133 - mean_absolute_error: 0.0876 - val_loss: 0.0152 - val_mean_squared_error: 0.0152 - val_mean_absolute_error: 0.0937\n",
            "Epoch 36/150\n",
            "577/577 [==============================] - 0s 40us/sample - loss: 0.0134 - mean_squared_error: 0.0134 - mean_absolute_error: 0.0882 - val_loss: 0.0153 - val_mean_squared_error: 0.0153 - val_mean_absolute_error: 0.0939\n",
            "Epoch 37/150\n",
            "577/577 [==============================] - 0s 38us/sample - loss: 0.0133 - mean_squared_error: 0.0133 - mean_absolute_error: 0.0867 - val_loss: 0.0151 - val_mean_squared_error: 0.0151 - val_mean_absolute_error: 0.0933\n",
            "Epoch 38/150\n",
            "577/577 [==============================] - 0s 37us/sample - loss: 0.0133 - mean_squared_error: 0.0133 - mean_absolute_error: 0.0878 - val_loss: 0.0150 - val_mean_squared_error: 0.0150 - val_mean_absolute_error: 0.0930\n",
            "Epoch 39/150\n",
            "577/577 [==============================] - 0s 36us/sample - loss: 0.0132 - mean_squared_error: 0.0132 - mean_absolute_error: 0.0876 - val_loss: 0.0150 - val_mean_squared_error: 0.0150 - val_mean_absolute_error: 0.0929\n",
            "Epoch 40/150\n",
            "577/577 [==============================] - 0s 41us/sample - loss: 0.0131 - mean_squared_error: 0.0131 - mean_absolute_error: 0.0865 - val_loss: 0.0150 - val_mean_squared_error: 0.0150 - val_mean_absolute_error: 0.0928\n",
            "Epoch 41/150\n",
            "577/577 [==============================] - 0s 40us/sample - loss: 0.0130 - mean_squared_error: 0.0130 - mean_absolute_error: 0.0863 - val_loss: 0.0149 - val_mean_squared_error: 0.0149 - val_mean_absolute_error: 0.0924\n",
            "Epoch 42/150\n",
            "577/577 [==============================] - 0s 40us/sample - loss: 0.0130 - mean_squared_error: 0.0130 - mean_absolute_error: 0.0870 - val_loss: 0.0148 - val_mean_squared_error: 0.0148 - val_mean_absolute_error: 0.0922\n",
            "Epoch 43/150\n",
            "577/577 [==============================] - 0s 42us/sample - loss: 0.0131 - mean_squared_error: 0.0131 - mean_absolute_error: 0.0855 - val_loss: 0.0148 - val_mean_squared_error: 0.0148 - val_mean_absolute_error: 0.0919\n",
            "Epoch 44/150\n",
            "577/577 [==============================] - 0s 38us/sample - loss: 0.0129 - mean_squared_error: 0.0129 - mean_absolute_error: 0.0865 - val_loss: 0.0147 - val_mean_squared_error: 0.0147 - val_mean_absolute_error: 0.0916\n",
            "Epoch 45/150\n",
            "577/577 [==============================] - 0s 37us/sample - loss: 0.0128 - mean_squared_error: 0.0128 - mean_absolute_error: 0.0856 - val_loss: 0.0147 - val_mean_squared_error: 0.0147 - val_mean_absolute_error: 0.0915\n",
            "Epoch 46/150\n",
            "577/577 [==============================] - 0s 40us/sample - loss: 0.0128 - mean_squared_error: 0.0128 - mean_absolute_error: 0.0859 - val_loss: 0.0147 - val_mean_squared_error: 0.0147 - val_mean_absolute_error: 0.0914\n",
            "Epoch 47/150\n",
            "577/577 [==============================] - 0s 42us/sample - loss: 0.0129 - mean_squared_error: 0.0129 - mean_absolute_error: 0.0852 - val_loss: 0.0146 - val_mean_squared_error: 0.0146 - val_mean_absolute_error: 0.0911\n",
            "Epoch 48/150\n",
            "577/577 [==============================] - 0s 40us/sample - loss: 0.0128 - mean_squared_error: 0.0128 - mean_absolute_error: 0.0861 - val_loss: 0.0146 - val_mean_squared_error: 0.0146 - val_mean_absolute_error: 0.0909\n",
            "Epoch 49/150\n",
            "577/577 [==============================] - 0s 37us/sample - loss: 0.0128 - mean_squared_error: 0.0128 - mean_absolute_error: 0.0856 - val_loss: 0.0145 - val_mean_squared_error: 0.0145 - val_mean_absolute_error: 0.0907\n",
            "Epoch 50/150\n",
            "577/577 [==============================] - 0s 38us/sample - loss: 0.0127 - mean_squared_error: 0.0127 - mean_absolute_error: 0.0845 - val_loss: 0.0145 - val_mean_squared_error: 0.0145 - val_mean_absolute_error: 0.0906\n",
            "Epoch 51/150\n",
            "577/577 [==============================] - 0s 38us/sample - loss: 0.0131 - mean_squared_error: 0.0131 - mean_absolute_error: 0.0876 - val_loss: 0.0145 - val_mean_squared_error: 0.0145 - val_mean_absolute_error: 0.0904\n",
            "Epoch 52/150\n",
            "577/577 [==============================] - 0s 42us/sample - loss: 0.0131 - mean_squared_error: 0.0131 - mean_absolute_error: 0.0849 - val_loss: 0.0143 - val_mean_squared_error: 0.0143 - val_mean_absolute_error: 0.0899\n",
            "Epoch 53/150\n",
            "577/577 [==============================] - 0s 55us/sample - loss: 0.0128 - mean_squared_error: 0.0128 - mean_absolute_error: 0.0867 - val_loss: 0.0143 - val_mean_squared_error: 0.0143 - val_mean_absolute_error: 0.0898\n",
            "Epoch 54/150\n",
            "577/577 [==============================] - 0s 38us/sample - loss: 0.0126 - mean_squared_error: 0.0126 - mean_absolute_error: 0.0840 - val_loss: 0.0143 - val_mean_squared_error: 0.0143 - val_mean_absolute_error: 0.0898\n",
            "Epoch 55/150\n",
            "577/577 [==============================] - 0s 44us/sample - loss: 0.0125 - mean_squared_error: 0.0125 - mean_absolute_error: 0.0852 - val_loss: 0.0142 - val_mean_squared_error: 0.0142 - val_mean_absolute_error: 0.0895\n",
            "Epoch 56/150\n",
            "577/577 [==============================] - 0s 37us/sample - loss: 0.0125 - mean_squared_error: 0.0125 - mean_absolute_error: 0.0841 - val_loss: 0.0142 - val_mean_squared_error: 0.0142 - val_mean_absolute_error: 0.0894\n",
            "Epoch 57/150\n",
            "577/577 [==============================] - 0s 43us/sample - loss: 0.0124 - mean_squared_error: 0.0124 - mean_absolute_error: 0.0840 - val_loss: 0.0142 - val_mean_squared_error: 0.0142 - val_mean_absolute_error: 0.0894\n",
            "Epoch 58/150\n",
            "577/577 [==============================] - 0s 40us/sample - loss: 0.0124 - mean_squared_error: 0.0124 - mean_absolute_error: 0.0840 - val_loss: 0.0141 - val_mean_squared_error: 0.0141 - val_mean_absolute_error: 0.0893\n",
            "Epoch 59/150\n",
            "577/577 [==============================] - 0s 40us/sample - loss: 0.0123 - mean_squared_error: 0.0123 - mean_absolute_error: 0.0838 - val_loss: 0.0142 - val_mean_squared_error: 0.0142 - val_mean_absolute_error: 0.0891\n",
            "Epoch 60/150\n",
            "577/577 [==============================] - 0s 38us/sample - loss: 0.0123 - mean_squared_error: 0.0123 - mean_absolute_error: 0.0839 - val_loss: 0.0141 - val_mean_squared_error: 0.0141 - val_mean_absolute_error: 0.0890\n",
            "Epoch 61/150\n",
            "577/577 [==============================] - 0s 38us/sample - loss: 0.0123 - mean_squared_error: 0.0123 - mean_absolute_error: 0.0833 - val_loss: 0.0140 - val_mean_squared_error: 0.0140 - val_mean_absolute_error: 0.0889\n",
            "Epoch 62/150\n",
            "577/577 [==============================] - 0s 36us/sample - loss: 0.0123 - mean_squared_error: 0.0123 - mean_absolute_error: 0.0834 - val_loss: 0.0140 - val_mean_squared_error: 0.0140 - val_mean_absolute_error: 0.0889\n",
            "Epoch 63/150\n",
            "577/577 [==============================] - 0s 36us/sample - loss: 0.0124 - mean_squared_error: 0.0124 - mean_absolute_error: 0.0851 - val_loss: 0.0141 - val_mean_squared_error: 0.0141 - val_mean_absolute_error: 0.0891\n",
            "Epoch 64/150\n",
            "577/577 [==============================] - 0s 40us/sample - loss: 0.0123 - mean_squared_error: 0.0123 - mean_absolute_error: 0.0832 - val_loss: 0.0141 - val_mean_squared_error: 0.0141 - val_mean_absolute_error: 0.0886\n",
            "Epoch 65/150\n",
            "577/577 [==============================] - 0s 36us/sample - loss: 0.0122 - mean_squared_error: 0.0122 - mean_absolute_error: 0.0827 - val_loss: 0.0140 - val_mean_squared_error: 0.0140 - val_mean_absolute_error: 0.0887\n",
            "Epoch 66/150\n",
            "577/577 [==============================] - 0s 40us/sample - loss: 0.0123 - mean_squared_error: 0.0123 - mean_absolute_error: 0.0848 - val_loss: 0.0140 - val_mean_squared_error: 0.0140 - val_mean_absolute_error: 0.0885\n",
            "Epoch 67/150\n",
            "577/577 [==============================] - 0s 41us/sample - loss: 0.0125 - mean_squared_error: 0.0125 - mean_absolute_error: 0.0833 - val_loss: 0.0139 - val_mean_squared_error: 0.0139 - val_mean_absolute_error: 0.0886\n",
            "Epoch 68/150\n",
            "577/577 [==============================] - 0s 45us/sample - loss: 0.0122 - mean_squared_error: 0.0122 - mean_absolute_error: 0.0844 - val_loss: 0.0139 - val_mean_squared_error: 0.0139 - val_mean_absolute_error: 0.0883\n",
            "Epoch 69/150\n",
            "577/577 [==============================] - 0s 42us/sample - loss: 0.0121 - mean_squared_error: 0.0121 - mean_absolute_error: 0.0824 - val_loss: 0.0140 - val_mean_squared_error: 0.0140 - val_mean_absolute_error: 0.0884\n",
            "Epoch 70/150\n",
            "577/577 [==============================] - 0s 44us/sample - loss: 0.0121 - mean_squared_error: 0.0121 - mean_absolute_error: 0.0827 - val_loss: 0.0139 - val_mean_squared_error: 0.0139 - val_mean_absolute_error: 0.0884\n",
            "Epoch 71/150\n",
            "577/577 [==============================] - 0s 39us/sample - loss: 0.0124 - mean_squared_error: 0.0124 - mean_absolute_error: 0.0831 - val_loss: 0.0138 - val_mean_squared_error: 0.0138 - val_mean_absolute_error: 0.0882\n",
            "Epoch 72/150\n",
            "577/577 [==============================] - 0s 39us/sample - loss: 0.0123 - mean_squared_error: 0.0123 - mean_absolute_error: 0.0859 - val_loss: 0.0138 - val_mean_squared_error: 0.0138 - val_mean_absolute_error: 0.0878\n",
            "Epoch 73/150\n",
            "577/577 [==============================] - 0s 48us/sample - loss: 0.0124 - mean_squared_error: 0.0124 - mean_absolute_error: 0.0829 - val_loss: 0.0137 - val_mean_squared_error: 0.0137 - val_mean_absolute_error: 0.0880\n",
            "Epoch 74/150\n",
            "577/577 [==============================] - 0s 47us/sample - loss: 0.0121 - mean_squared_error: 0.0121 - mean_absolute_error: 0.0843 - val_loss: 0.0137 - val_mean_squared_error: 0.0137 - val_mean_absolute_error: 0.0874\n",
            "Epoch 75/150\n",
            "577/577 [==============================] - 0s 44us/sample - loss: 0.0122 - mean_squared_error: 0.0122 - mean_absolute_error: 0.0823 - val_loss: 0.0137 - val_mean_squared_error: 0.0137 - val_mean_absolute_error: 0.0876\n",
            "Epoch 76/150\n",
            "577/577 [==============================] - 0s 40us/sample - loss: 0.0121 - mean_squared_error: 0.0121 - mean_absolute_error: 0.0839 - val_loss: 0.0137 - val_mean_squared_error: 0.0137 - val_mean_absolute_error: 0.0873\n",
            "Epoch 77/150\n",
            "577/577 [==============================] - 0s 41us/sample - loss: 0.0120 - mean_squared_error: 0.0120 - mean_absolute_error: 0.0821 - val_loss: 0.0138 - val_mean_squared_error: 0.0138 - val_mean_absolute_error: 0.0880\n",
            "Epoch 78/150\n",
            "577/577 [==============================] - 0s 39us/sample - loss: 0.0120 - mean_squared_error: 0.0120 - mean_absolute_error: 0.0828 - val_loss: 0.0137 - val_mean_squared_error: 0.0137 - val_mean_absolute_error: 0.0878\n",
            "Epoch 79/150\n",
            "577/577 [==============================] - 0s 40us/sample - loss: 0.0121 - mean_squared_error: 0.0121 - mean_absolute_error: 0.0823 - val_loss: 0.0137 - val_mean_squared_error: 0.0137 - val_mean_absolute_error: 0.0877\n",
            "Epoch 80/150\n",
            "577/577 [==============================] - 0s 51us/sample - loss: 0.0121 - mean_squared_error: 0.0121 - mean_absolute_error: 0.0837 - val_loss: 0.0137 - val_mean_squared_error: 0.0137 - val_mean_absolute_error: 0.0875\n",
            "Epoch 81/150\n",
            "577/577 [==============================] - 0s 37us/sample - loss: 0.0119 - mean_squared_error: 0.0119 - mean_absolute_error: 0.0817 - val_loss: 0.0136 - val_mean_squared_error: 0.0136 - val_mean_absolute_error: 0.0875\n",
            "Epoch 82/150\n",
            "577/577 [==============================] - 0s 45us/sample - loss: 0.0119 - mean_squared_error: 0.0119 - mean_absolute_error: 0.0823 - val_loss: 0.0136 - val_mean_squared_error: 0.0136 - val_mean_absolute_error: 0.0871\n",
            "Epoch 83/150\n",
            "577/577 [==============================] - 0s 39us/sample - loss: 0.0118 - mean_squared_error: 0.0118 - mean_absolute_error: 0.0820 - val_loss: 0.0137 - val_mean_squared_error: 0.0137 - val_mean_absolute_error: 0.0873\n",
            "Epoch 84/150\n",
            "577/577 [==============================] - 0s 37us/sample - loss: 0.0119 - mean_squared_error: 0.0119 - mean_absolute_error: 0.0819 - val_loss: 0.0137 - val_mean_squared_error: 0.0137 - val_mean_absolute_error: 0.0876\n",
            "Epoch 85/150\n",
            "577/577 [==============================] - 0s 42us/sample - loss: 0.0118 - mean_squared_error: 0.0118 - mean_absolute_error: 0.0818 - val_loss: 0.0135 - val_mean_squared_error: 0.0135 - val_mean_absolute_error: 0.0868\n",
            "Epoch 86/150\n",
            "577/577 [==============================] - 0s 37us/sample - loss: 0.0119 - mean_squared_error: 0.0119 - mean_absolute_error: 0.0822 - val_loss: 0.0135 - val_mean_squared_error: 0.0135 - val_mean_absolute_error: 0.0869\n",
            "Epoch 87/150\n",
            "577/577 [==============================] - 0s 41us/sample - loss: 0.0118 - mean_squared_error: 0.0118 - mean_absolute_error: 0.0822 - val_loss: 0.0136 - val_mean_squared_error: 0.0136 - val_mean_absolute_error: 0.0874\n",
            "Epoch 88/150\n",
            "577/577 [==============================] - 0s 41us/sample - loss: 0.0118 - mean_squared_error: 0.0118 - mean_absolute_error: 0.0815 - val_loss: 0.0135 - val_mean_squared_error: 0.0135 - val_mean_absolute_error: 0.0869\n",
            "Epoch 89/150\n",
            "577/577 [==============================] - 0s 38us/sample - loss: 0.0118 - mean_squared_error: 0.0118 - mean_absolute_error: 0.0829 - val_loss: 0.0135 - val_mean_squared_error: 0.0135 - val_mean_absolute_error: 0.0866\n",
            "Epoch 90/150\n",
            "577/577 [==============================] - 0s 41us/sample - loss: 0.0118 - mean_squared_error: 0.0118 - mean_absolute_error: 0.0816 - val_loss: 0.0135 - val_mean_squared_error: 0.0135 - val_mean_absolute_error: 0.0868\n",
            "Epoch 91/150\n",
            "577/577 [==============================] - 0s 39us/sample - loss: 0.0118 - mean_squared_error: 0.0118 - mean_absolute_error: 0.0824 - val_loss: 0.0136 - val_mean_squared_error: 0.0136 - val_mean_absolute_error: 0.0871\n",
            "Epoch 92/150\n",
            "577/577 [==============================] - 0s 46us/sample - loss: 0.0119 - mean_squared_error: 0.0119 - mean_absolute_error: 0.0816 - val_loss: 0.0136 - val_mean_squared_error: 0.0136 - val_mean_absolute_error: 0.0871\n",
            "Epoch 93/150\n",
            "577/577 [==============================] - 0s 41us/sample - loss: 0.0118 - mean_squared_error: 0.0118 - mean_absolute_error: 0.0830 - val_loss: 0.0136 - val_mean_squared_error: 0.0136 - val_mean_absolute_error: 0.0869\n",
            "Epoch 94/150\n",
            "577/577 [==============================] - 0s 42us/sample - loss: 0.0118 - mean_squared_error: 0.0118 - mean_absolute_error: 0.0814 - val_loss: 0.0135 - val_mean_squared_error: 0.0135 - val_mean_absolute_error: 0.0868\n",
            "Epoch 95/150\n",
            "577/577 [==============================] - 0s 38us/sample - loss: 0.0118 - mean_squared_error: 0.0118 - mean_absolute_error: 0.0823 - val_loss: 0.0134 - val_mean_squared_error: 0.0134 - val_mean_absolute_error: 0.0865\n",
            "Epoch 96/150\n",
            "577/577 [==============================] - 0s 41us/sample - loss: 0.0117 - mean_squared_error: 0.0117 - mean_absolute_error: 0.0815 - val_loss: 0.0135 - val_mean_squared_error: 0.0135 - val_mean_absolute_error: 0.0869\n",
            "Epoch 97/150\n",
            "577/577 [==============================] - 0s 39us/sample - loss: 0.0117 - mean_squared_error: 0.0117 - mean_absolute_error: 0.0818 - val_loss: 0.0135 - val_mean_squared_error: 0.0135 - val_mean_absolute_error: 0.0868\n",
            "Epoch 98/150\n",
            "577/577 [==============================] - 0s 38us/sample - loss: 0.0117 - mean_squared_error: 0.0117 - mean_absolute_error: 0.0817 - val_loss: 0.0135 - val_mean_squared_error: 0.0135 - val_mean_absolute_error: 0.0863\n",
            "Epoch 99/150\n",
            "577/577 [==============================] - 0s 42us/sample - loss: 0.0118 - mean_squared_error: 0.0118 - mean_absolute_error: 0.0812 - val_loss: 0.0135 - val_mean_squared_error: 0.0135 - val_mean_absolute_error: 0.0869\n",
            "Epoch 100/150\n",
            "577/577 [==============================] - 0s 42us/sample - loss: 0.0118 - mean_squared_error: 0.0118 - mean_absolute_error: 0.0820 - val_loss: 0.0136 - val_mean_squared_error: 0.0136 - val_mean_absolute_error: 0.0869\n",
            "Epoch 101/150\n",
            "577/577 [==============================] - 0s 44us/sample - loss: 0.0117 - mean_squared_error: 0.0117 - mean_absolute_error: 0.0813 - val_loss: 0.0136 - val_mean_squared_error: 0.0136 - val_mean_absolute_error: 0.0875\n",
            "Epoch 102/150\n",
            "577/577 [==============================] - 0s 44us/sample - loss: 0.0120 - mean_squared_error: 0.0120 - mean_absolute_error: 0.0834 - val_loss: 0.0138 - val_mean_squared_error: 0.0138 - val_mean_absolute_error: 0.0868\n",
            "Epoch 103/150\n",
            "577/577 [==============================] - 0s 38us/sample - loss: 0.0118 - mean_squared_error: 0.0118 - mean_absolute_error: 0.0814 - val_loss: 0.0134 - val_mean_squared_error: 0.0134 - val_mean_absolute_error: 0.0866\n",
            "Epoch 104/150\n",
            "577/577 [==============================] - 0s 38us/sample - loss: 0.0116 - mean_squared_error: 0.0116 - mean_absolute_error: 0.0814 - val_loss: 0.0135 - val_mean_squared_error: 0.0135 - val_mean_absolute_error: 0.0867\n",
            "Epoch 105/150\n",
            "577/577 [==============================] - 0s 39us/sample - loss: 0.0117 - mean_squared_error: 0.0117 - mean_absolute_error: 0.0818 - val_loss: 0.0134 - val_mean_squared_error: 0.0134 - val_mean_absolute_error: 0.0868\n",
            "Epoch 106/150\n",
            "577/577 [==============================] - 0s 39us/sample - loss: 0.0117 - mean_squared_error: 0.0117 - mean_absolute_error: 0.0811 - val_loss: 0.0137 - val_mean_squared_error: 0.0137 - val_mean_absolute_error: 0.0871\n",
            "Epoch 107/150\n",
            "577/577 [==============================] - 0s 39us/sample - loss: 0.0117 - mean_squared_error: 0.0117 - mean_absolute_error: 0.0820 - val_loss: 0.0134 - val_mean_squared_error: 0.0134 - val_mean_absolute_error: 0.0862\n",
            "Epoch 108/150\n",
            "577/577 [==============================] - 0s 37us/sample - loss: 0.0117 - mean_squared_error: 0.0117 - mean_absolute_error: 0.0816 - val_loss: 0.0136 - val_mean_squared_error: 0.0136 - val_mean_absolute_error: 0.0871\n",
            "Epoch 109/150\n",
            "577/577 [==============================] - 0s 40us/sample - loss: 0.0116 - mean_squared_error: 0.0116 - mean_absolute_error: 0.0811 - val_loss: 0.0134 - val_mean_squared_error: 0.0134 - val_mean_absolute_error: 0.0865\n",
            "Epoch 110/150\n",
            "577/577 [==============================] - 0s 38us/sample - loss: 0.0116 - mean_squared_error: 0.0116 - mean_absolute_error: 0.0816 - val_loss: 0.0135 - val_mean_squared_error: 0.0135 - val_mean_absolute_error: 0.0869\n",
            "Epoch 111/150\n",
            "577/577 [==============================] - 0s 46us/sample - loss: 0.0117 - mean_squared_error: 0.0117 - mean_absolute_error: 0.0813 - val_loss: 0.0134 - val_mean_squared_error: 0.0134 - val_mean_absolute_error: 0.0863\n",
            "Epoch 112/150\n",
            "577/577 [==============================] - 0s 44us/sample - loss: 0.0116 - mean_squared_error: 0.0116 - mean_absolute_error: 0.0815 - val_loss: 0.0134 - val_mean_squared_error: 0.0134 - val_mean_absolute_error: 0.0860\n",
            "Epoch 113/150\n",
            "577/577 [==============================] - 0s 39us/sample - loss: 0.0116 - mean_squared_error: 0.0116 - mean_absolute_error: 0.0810 - val_loss: 0.0135 - val_mean_squared_error: 0.0135 - val_mean_absolute_error: 0.0868\n",
            "Epoch 114/150\n",
            "577/577 [==============================] - 0s 41us/sample - loss: 0.0116 - mean_squared_error: 0.0116 - mean_absolute_error: 0.0812 - val_loss: 0.0135 - val_mean_squared_error: 0.0135 - val_mean_absolute_error: 0.0863\n",
            "Epoch 115/150\n",
            "577/577 [==============================] - 0s 39us/sample - loss: 0.0116 - mean_squared_error: 0.0116 - mean_absolute_error: 0.0814 - val_loss: 0.0134 - val_mean_squared_error: 0.0134 - val_mean_absolute_error: 0.0865\n",
            "Epoch 116/150\n",
            "577/577 [==============================] - 0s 38us/sample - loss: 0.0116 - mean_squared_error: 0.0116 - mean_absolute_error: 0.0810 - val_loss: 0.0134 - val_mean_squared_error: 0.0134 - val_mean_absolute_error: 0.0863\n",
            "Epoch 117/150\n",
            "577/577 [==============================] - 0s 37us/sample - loss: 0.0117 - mean_squared_error: 0.0117 - mean_absolute_error: 0.0823 - val_loss: 0.0134 - val_mean_squared_error: 0.0134 - val_mean_absolute_error: 0.0866\n",
            "Epoch 118/150\n",
            "577/577 [==============================] - 0s 39us/sample - loss: 0.0115 - mean_squared_error: 0.0115 - mean_absolute_error: 0.0808 - val_loss: 0.0133 - val_mean_squared_error: 0.0133 - val_mean_absolute_error: 0.0860\n",
            "Epoch 119/150\n",
            "577/577 [==============================] - 0s 59us/sample - loss: 0.0116 - mean_squared_error: 0.0116 - mean_absolute_error: 0.0810 - val_loss: 0.0133 - val_mean_squared_error: 0.0133 - val_mean_absolute_error: 0.0861\n",
            "Epoch 120/150\n",
            "577/577 [==============================] - 0s 56us/sample - loss: 0.0116 - mean_squared_error: 0.0116 - mean_absolute_error: 0.0814 - val_loss: 0.0134 - val_mean_squared_error: 0.0134 - val_mean_absolute_error: 0.0865\n",
            "Epoch 121/150\n",
            "577/577 [==============================] - 0s 38us/sample - loss: 0.0116 - mean_squared_error: 0.0116 - mean_absolute_error: 0.0815 - val_loss: 0.0135 - val_mean_squared_error: 0.0135 - val_mean_absolute_error: 0.0867\n",
            "Epoch 122/150\n",
            "577/577 [==============================] - 0s 49us/sample - loss: 0.0115 - mean_squared_error: 0.0115 - mean_absolute_error: 0.0810 - val_loss: 0.0133 - val_mean_squared_error: 0.0133 - val_mean_absolute_error: 0.0858\n",
            "Epoch 123/150\n",
            "577/577 [==============================] - 0s 38us/sample - loss: 0.0115 - mean_squared_error: 0.0115 - mean_absolute_error: 0.0810 - val_loss: 0.0133 - val_mean_squared_error: 0.0133 - val_mean_absolute_error: 0.0861\n",
            "Epoch 124/150\n",
            "577/577 [==============================] - 0s 42us/sample - loss: 0.0116 - mean_squared_error: 0.0116 - mean_absolute_error: 0.0813 - val_loss: 0.0133 - val_mean_squared_error: 0.0133 - val_mean_absolute_error: 0.0858\n",
            "Epoch 125/150\n",
            "577/577 [==============================] - 0s 43us/sample - loss: 0.0115 - mean_squared_error: 0.0115 - mean_absolute_error: 0.0810 - val_loss: 0.0136 - val_mean_squared_error: 0.0136 - val_mean_absolute_error: 0.0865\n",
            "Epoch 126/150\n",
            "577/577 [==============================] - 0s 39us/sample - loss: 0.0116 - mean_squared_error: 0.0116 - mean_absolute_error: 0.0809 - val_loss: 0.0134 - val_mean_squared_error: 0.0134 - val_mean_absolute_error: 0.0861\n",
            "Epoch 127/150\n",
            "577/577 [==============================] - 0s 41us/sample - loss: 0.0117 - mean_squared_error: 0.0117 - mean_absolute_error: 0.0817 - val_loss: 0.0134 - val_mean_squared_error: 0.0134 - val_mean_absolute_error: 0.0864\n",
            "Epoch 128/150\n",
            "577/577 [==============================] - 0s 50us/sample - loss: 0.0117 - mean_squared_error: 0.0117 - mean_absolute_error: 0.0813 - val_loss: 0.0134 - val_mean_squared_error: 0.0134 - val_mean_absolute_error: 0.0858\n",
            "Epoch 129/150\n",
            "577/577 [==============================] - 0s 48us/sample - loss: 0.0119 - mean_squared_error: 0.0119 - mean_absolute_error: 0.0836 - val_loss: 0.0133 - val_mean_squared_error: 0.0133 - val_mean_absolute_error: 0.0855\n",
            "Epoch 130/150\n",
            "577/577 [==============================] - 0s 40us/sample - loss: 0.0116 - mean_squared_error: 0.0116 - mean_absolute_error: 0.0804 - val_loss: 0.0133 - val_mean_squared_error: 0.0133 - val_mean_absolute_error: 0.0859\n",
            "Epoch 131/150\n",
            "577/577 [==============================] - 0s 39us/sample - loss: 0.0115 - mean_squared_error: 0.0115 - mean_absolute_error: 0.0814 - val_loss: 0.0133 - val_mean_squared_error: 0.0133 - val_mean_absolute_error: 0.0860\n",
            "Epoch 132/150\n",
            "577/577 [==============================] - 0s 43us/sample - loss: 0.0116 - mean_squared_error: 0.0116 - mean_absolute_error: 0.0811 - val_loss: 0.0133 - val_mean_squared_error: 0.0133 - val_mean_absolute_error: 0.0856\n",
            "Epoch 133/150\n",
            "577/577 [==============================] - 0s 42us/sample - loss: 0.0115 - mean_squared_error: 0.0115 - mean_absolute_error: 0.0813 - val_loss: 0.0134 - val_mean_squared_error: 0.0134 - val_mean_absolute_error: 0.0860\n",
            "Epoch 134/150\n",
            "577/577 [==============================] - 0s 43us/sample - loss: 0.0115 - mean_squared_error: 0.0115 - mean_absolute_error: 0.0808 - val_loss: 0.0132 - val_mean_squared_error: 0.0132 - val_mean_absolute_error: 0.0855\n",
            "Epoch 135/150\n",
            "577/577 [==============================] - 0s 43us/sample - loss: 0.0116 - mean_squared_error: 0.0116 - mean_absolute_error: 0.0822 - val_loss: 0.0133 - val_mean_squared_error: 0.0133 - val_mean_absolute_error: 0.0860\n",
            "Epoch 136/150\n",
            "577/577 [==============================] - 0s 39us/sample - loss: 0.0117 - mean_squared_error: 0.0117 - mean_absolute_error: 0.0808 - val_loss: 0.0133 - val_mean_squared_error: 0.0133 - val_mean_absolute_error: 0.0856\n",
            "Epoch 137/150\n",
            "577/577 [==============================] - 0s 41us/sample - loss: 0.0117 - mean_squared_error: 0.0117 - mean_absolute_error: 0.0820 - val_loss: 0.0134 - val_mean_squared_error: 0.0134 - val_mean_absolute_error: 0.0859\n",
            "Epoch 138/150\n",
            "577/577 [==============================] - 0s 40us/sample - loss: 0.0115 - mean_squared_error: 0.0115 - mean_absolute_error: 0.0808 - val_loss: 0.0133 - val_mean_squared_error: 0.0133 - val_mean_absolute_error: 0.0858\n",
            "Epoch 139/150\n",
            "577/577 [==============================] - 0s 39us/sample - loss: 0.0116 - mean_squared_error: 0.0116 - mean_absolute_error: 0.0818 - val_loss: 0.0133 - val_mean_squared_error: 0.0133 - val_mean_absolute_error: 0.0858\n",
            "Epoch 140/150\n",
            "577/577 [==============================] - 0s 42us/sample - loss: 0.0116 - mean_squared_error: 0.0116 - mean_absolute_error: 0.0805 - val_loss: 0.0131 - val_mean_squared_error: 0.0131 - val_mean_absolute_error: 0.0851\n",
            "Epoch 141/150\n",
            "577/577 [==============================] - 0s 39us/sample - loss: 0.0116 - mean_squared_error: 0.0116 - mean_absolute_error: 0.0814 - val_loss: 0.0133 - val_mean_squared_error: 0.0133 - val_mean_absolute_error: 0.0857\n",
            "Epoch 142/150\n",
            "577/577 [==============================] - 0s 41us/sample - loss: 0.0114 - mean_squared_error: 0.0114 - mean_absolute_error: 0.0807 - val_loss: 0.0132 - val_mean_squared_error: 0.0132 - val_mean_absolute_error: 0.0852\n",
            "Epoch 143/150\n",
            "577/577 [==============================] - 0s 43us/sample - loss: 0.0114 - mean_squared_error: 0.0114 - mean_absolute_error: 0.0807 - val_loss: 0.0132 - val_mean_squared_error: 0.0132 - val_mean_absolute_error: 0.0856\n",
            "Epoch 144/150\n",
            "577/577 [==============================] - 0s 38us/sample - loss: 0.0114 - mean_squared_error: 0.0114 - mean_absolute_error: 0.0806 - val_loss: 0.0135 - val_mean_squared_error: 0.0135 - val_mean_absolute_error: 0.0860\n",
            "Epoch 145/150\n",
            "577/577 [==============================] - 0s 40us/sample - loss: 0.0114 - mean_squared_error: 0.0114 - mean_absolute_error: 0.0806 - val_loss: 0.0132 - val_mean_squared_error: 0.0132 - val_mean_absolute_error: 0.0857\n",
            "Epoch 146/150\n",
            "577/577 [==============================] - 0s 49us/sample - loss: 0.0115 - mean_squared_error: 0.0115 - mean_absolute_error: 0.0804 - val_loss: 0.0131 - val_mean_squared_error: 0.0131 - val_mean_absolute_error: 0.0845\n",
            "Epoch 147/150\n",
            "577/577 [==============================] - 0s 38us/sample - loss: 0.0115 - mean_squared_error: 0.0115 - mean_absolute_error: 0.0813 - val_loss: 0.0131 - val_mean_squared_error: 0.0131 - val_mean_absolute_error: 0.0851\n",
            "Epoch 148/150\n",
            "577/577 [==============================] - 0s 41us/sample - loss: 0.0114 - mean_squared_error: 0.0114 - mean_absolute_error: 0.0804 - val_loss: 0.0132 - val_mean_squared_error: 0.0132 - val_mean_absolute_error: 0.0853\n",
            "Epoch 149/150\n",
            "577/577 [==============================] - 0s 41us/sample - loss: 0.0114 - mean_squared_error: 0.0114 - mean_absolute_error: 0.0804 - val_loss: 0.0132 - val_mean_squared_error: 0.0132 - val_mean_absolute_error: 0.0853\n",
            "Epoch 150/150\n",
            "577/577 [==============================] - 0s 38us/sample - loss: 0.0114 - mean_squared_error: 0.0114 - mean_absolute_error: 0.0812 - val_loss: 0.0131 - val_mean_squared_error: 0.0131 - val_mean_absolute_error: 0.0850\n"
          ],
          "name": "stdout"
        }
      ]
    },
    {
      "cell_type": "code",
      "metadata": {
        "id": "nzJaoDJg3iUC",
        "colab_type": "code",
        "colab": {
          "base_uri": "https://localhost:8080/",
          "height": 312
        },
        "outputId": "05a82908-6dd7-4807-bd81-89ea889514e4"
      },
      "source": [
        "print(history.history.keys())\n",
        "# \"Loss\"\n",
        "plt.plot(history.history['loss'])\n",
        "plt.plot(history.history['val_loss'])\n",
        "plt.title('model loss')\n",
        "plt.ylabel('loss')\n",
        "plt.xlabel('epoch')\n",
        "plt.legend(['train', 'validation'], loc='upper left')\n",
        "plt.show()"
      ],
      "execution_count": 21,
      "outputs": [
        {
          "output_type": "stream",
          "text": [
            "dict_keys(['loss', 'mean_squared_error', 'mean_absolute_error', 'val_loss', 'val_mean_squared_error', 'val_mean_absolute_error'])\n"
          ],
          "name": "stdout"
        },
        {
          "output_type": "display_data",
          "data": {
            "image/png": "[encoded data removed]",
            "text/plain": [
              "<Figure size 432x288 with 1 Axes>"
            ]
          },
          "metadata": {
            "tags": []
          }
        }
      ]
    },
    {
      "cell_type": "code",
      "metadata": {
        "id": "D4pCo7zu3olK",
        "colab_type": "code",
        "colab": {}
      },
      "source": [
        "Xnew = np.array([[40, 0, 26, 9000, 8000]])"
      ],
      "execution_count": 0,
      "outputs": []
    },
    {
      "cell_type": "code",
      "metadata": {
        "id": "Ybm7wJnL3o95",
        "colab_type": "code",
        "colab": {
          "base_uri": "https://localhost:8080/",
          "height": 34
        },
        "outputId": "84e7ce33-f43e-43ad-c8dd-296431d16b46"
      },
      "source": [
        "Xnew = np.array([[40, 0, 26, 9000, 8000]])\n",
        "Xnew= scaler_x.transform(Xnew)\n",
        "ynew= model.predict(Xnew)\n",
        "#invert normalize\n",
        "ynew = scaler_y.inverse_transform(ynew) \n",
        "Xnew = scaler_x.inverse_transform(Xnew)\n",
        "print(\"X=%s, Predicted=%s\" % (Xnew[0], ynew[0]))"
      ],
      "execution_count": 23,
      "outputs": [
        {
          "output_type": "stream",
          "text": [
            "X=[  40.    0.   26. 9000. 8000.], Predicted=[14238.244]\n"
          ],
          "name": "stdout"
        }
      ]
    },
    {
      "cell_type": "code",
      "metadata": {
        "id": "HeNqGlim3qfK",
        "colab_type": "code",
        "colab": {}
      },
      "source": [
        ""
      ],
      "execution_count": 0,
      "outputs": []
    }
  ]
}