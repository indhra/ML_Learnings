{
 "cells": [
  {
   "cell_type": "markdown",
   "metadata": {},
   "source": [
    "# Regression using Neural Networks"
   ]
  },
  {
   "cell_type": "markdown",
   "metadata": {},
   "source": [
    "# Todos \\ Learnings\n",
    "1. How  to choose input layer neuron size\n",
    "    1. Feature scaling , even though network can handle integers , still scaling the numerical features, this can sometime improve the convergence speed of the training process.\n",
    "    2. Convergence speed referes to how quickly the training process reaches a  point where the loss function stops decreasing significantly, and the networks perf. stabilizes\n",
    "    3. Wrong no.of input layer neurons; less no.of neurons lead to underfitting of network, essentially single neuron represents a single feature, here we are discarding \\\n",
    "        some information from the data and this can limit networks ability to learn effectively. More no.of neurons we are overfiting the network, it becomes good at \\\n",
    "        remembering the noise instead of learning the patterns in the data; increased training time and computation cost as network has more parameters to be learned. \n",
    "2. How to choose hidden layer: no.of layers, no.of neurons\n",
    "3. How to choose output layer neuron size\n",
    "4. How to choose optimizer and loss function\n",
    "5. How to choose the test size for the validation purpose\n",
    "6. What is batch size \n",
    "    1. The no. depends the dataset size, computational power, data type, the network architecture and the input feature scales\n",
    "    2. It is like a knob to control the trade-off between training speed, memory usage, and the stability of learning in your neural network.\n",
    "    3. Instead of updating the parameters of the gradient descent after each data point, the batch process will go through N no. of data points \\\n",
    "        and based on the average of loss function the weight adjustments of the gradient descent is made \\\n",
    "        This makes process faster and for bigger batch size the variance will be less and smoother in adjustments \\\n",
    "        For smaller batch size it takes more time and noisy gradients as individual data points leads noisier weight updates\n",
    "7. What is Epoch ?\n",
    "8. What if no missing value replacement done at the input layer ?"
   ]
  },
  {
   "cell_type": "markdown",
   "metadata": {},
   "source": [
    "# Import Libraries"
   ]
  },
  {
   "cell_type": "code",
   "execution_count": 2,
   "metadata": {},
   "outputs": [
    {
     "data": {
      "text/plain": [
       "'c:\\\\Users\\\\INDHRNA\\\\AppData\\\\Local\\\\Programs\\\\Python\\\\Python37\\\\python.exe'"
      ]
     },
     "execution_count": 2,
     "metadata": {},
     "output_type": "execute_result"
    }
   ],
   "source": [
    "import sys\n",
    "sys.executable"
   ]
  },
  {
   "cell_type": "code",
   "execution_count": 3,
   "metadata": {},
   "outputs": [],
   "source": [
    "import tensorflow as tf\n",
    "# from tensorflow import keras\n",
    "from tensorflow.keras import layers, Sequential\n",
    "from sklearn.model_selection import train_test_split\n",
    "import numpy as np\n",
    "\n",
    "import matplotlib.pyplot as plt"
   ]
  },
  {
   "cell_type": "markdown",
   "metadata": {},
   "source": [
    "# Prepare dataset, and split it into training and testing sets:"
   ]
  },
  {
   "cell_type": "code",
   "execution_count": 4,
   "metadata": {},
   "outputs": [
    {
     "data": {
      "text/plain": [
       "array([[0.4417482 ],\n",
       "       [0.68489653],\n",
       "       [0.10934303],\n",
       "       [0.37713692],\n",
       "       [0.92181952],\n",
       "       [0.47165434],\n",
       "       [0.22877448],\n",
       "       [0.49996865],\n",
       "       [0.74545487],\n",
       "       [0.11055458],\n",
       "       [0.71988872],\n",
       "       [0.54014963],\n",
       "       [0.78264775],\n",
       "       [0.94787883],\n",
       "       [0.43171159],\n",
       "       [0.79188127],\n",
       "       [0.29110241],\n",
       "       [0.48976357],\n",
       "       [0.79470028],\n",
       "       [0.8685808 ],\n",
       "       [0.62676667],\n",
       "       [0.21978254],\n",
       "       [0.73853085],\n",
       "       [0.50078004],\n",
       "       [0.03806019],\n",
       "       [0.3861163 ],\n",
       "       [0.84979643],\n",
       "       [0.73126887],\n",
       "       [0.66283429],\n",
       "       [0.97095183],\n",
       "       [0.04654914],\n",
       "       [0.20164889],\n",
       "       [0.73845012],\n",
       "       [0.1361938 ],\n",
       "       [0.63492081],\n",
       "       [0.32342733],\n",
       "       [0.60858213],\n",
       "       [0.87756816],\n",
       "       [0.08949794],\n",
       "       [0.23052831],\n",
       "       [0.89732165],\n",
       "       [0.27218506],\n",
       "       [0.80889623],\n",
       "       [0.87432507],\n",
       "       [0.24781968],\n",
       "       [0.65973005],\n",
       "       [0.80490596],\n",
       "       [0.7460639 ],\n",
       "       [0.51256345],\n",
       "       [0.89153477],\n",
       "       [0.82359437],\n",
       "       [0.97145629],\n",
       "       [0.04515117],\n",
       "       [0.37443999],\n",
       "       [0.2141686 ],\n",
       "       [0.66788178],\n",
       "       [0.75876095],\n",
       "       [0.72910228],\n",
       "       [0.52243222],\n",
       "       [0.87252658],\n",
       "       [0.66157344],\n",
       "       [0.66901747],\n",
       "       [0.11966453],\n",
       "       [0.84407196],\n",
       "       [0.00616768],\n",
       "       [0.48364716],\n",
       "       [0.77829111],\n",
       "       [0.3773854 ],\n",
       "       [0.27525301],\n",
       "       [0.80838355],\n",
       "       [0.45981755],\n",
       "       [0.60656314],\n",
       "       [0.14932511],\n",
       "       [0.5722187 ],\n",
       "       [0.94837629],\n",
       "       [0.0532247 ],\n",
       "       [0.16757264],\n",
       "       [0.5132684 ],\n",
       "       [0.61123722],\n",
       "       [0.63821856],\n",
       "       [0.89386591],\n",
       "       [0.50160389],\n",
       "       [0.4506812 ],\n",
       "       [0.47420462],\n",
       "       [0.20738572],\n",
       "       [0.69016724],\n",
       "       [0.98104708],\n",
       "       [0.86482833],\n",
       "       [0.17303168],\n",
       "       [0.65850557],\n",
       "       [0.568151  ],\n",
       "       [0.15409433],\n",
       "       [0.84519591],\n",
       "       [0.39846691],\n",
       "       [0.94100166],\n",
       "       [0.24409078],\n",
       "       [0.22934427],\n",
       "       [0.09793438],\n",
       "       [0.89437163],\n",
       "       [0.23932267]])"
      ]
     },
     "execution_count": 4,
     "metadata": {},
     "output_type": "execute_result"
    }
   ],
   "source": [
    "# Generate some example data (can be replaced with actual data) \n",
    "\n",
    "X = np.random.rand(100,1 )\n",
    "X"
   ]
  },
  {
   "cell_type": "code",
   "execution_count": 5,
   "metadata": {},
   "outputs": [
    {
     "data": {
      "text/plain": [
       "(100, 1)"
      ]
     },
     "execution_count": 5,
     "metadata": {},
     "output_type": "execute_result"
    }
   ],
   "source": [
    "X.shape"
   ]
  },
  {
   "cell_type": "code",
   "execution_count": 6,
   "metadata": {},
   "outputs": [
    {
     "data": {
      "text/plain": [
       "array([[ 0.66975039],\n",
       "       [ 2.53519152],\n",
       "       [ 1.65012128],\n",
       "       [ 2.23073889],\n",
       "       [ 3.58074993],\n",
       "       [ 2.88028773],\n",
       "       [ 2.2392358 ],\n",
       "       [ 2.02002588],\n",
       "       [ 3.72369305],\n",
       "       [ 1.86173054],\n",
       "       [ 1.78841829],\n",
       "       [ 1.82403922],\n",
       "       [ 3.5623936 ],\n",
       "       [ 2.90037905],\n",
       "       [ 1.69555646],\n",
       "       [ 3.38826685],\n",
       "       [ 1.763308  ],\n",
       "       [ 1.30486406],\n",
       "       [ 2.08789834],\n",
       "       [ 2.47653501],\n",
       "       [ 2.47156679],\n",
       "       [ 1.12801823],\n",
       "       [ 2.06877321],\n",
       "       [ 2.02608934],\n",
       "       [ 0.55702645],\n",
       "       [ 1.56901647],\n",
       "       [ 1.44407984],\n",
       "       [ 1.58195407],\n",
       "       [ 1.51358113],\n",
       "       [ 1.87828769],\n",
       "       [ 1.4858245 ],\n",
       "       [ 1.76560928],\n",
       "       [ 2.40984754],\n",
       "       [ 2.19917543],\n",
       "       [-0.12127039],\n",
       "       [ 2.15728855],\n",
       "       [ 2.66899599],\n",
       "       [ 3.8143619 ],\n",
       "       [ 0.90722261],\n",
       "       [ 0.82849216],\n",
       "       [ 1.53331977],\n",
       "       [ 2.94710629],\n",
       "       [ 2.5952268 ],\n",
       "       [ 2.0346606 ],\n",
       "       [ 1.82149436],\n",
       "       [ 1.13926903],\n",
       "       [ 1.8699844 ],\n",
       "       [ 4.1400088 ],\n",
       "       [ 1.07417772],\n",
       "       [ 2.9400118 ],\n",
       "       [ 2.0673588 ],\n",
       "       [ 4.22558218],\n",
       "       [ 1.01276969],\n",
       "       [ 2.85850728],\n",
       "       [ 0.54075193],\n",
       "       [ 1.35921344],\n",
       "       [ 2.19525428],\n",
       "       [ 0.62382415],\n",
       "       [ 3.2564121 ],\n",
       "       [ 3.53609614],\n",
       "       [ 2.74165744],\n",
       "       [ 1.62831318],\n",
       "       [ 0.91072869],\n",
       "       [ 2.64041396],\n",
       "       [-0.93684012],\n",
       "       [ 0.73565772],\n",
       "       [ 2.66989241],\n",
       "       [ 0.6594225 ],\n",
       "       [ 1.5191145 ],\n",
       "       [ 1.09938797],\n",
       "       [ 2.06282649],\n",
       "       [ 3.6545002 ],\n",
       "       [ 0.39461964],\n",
       "       [ 2.17439571],\n",
       "       [ 3.08035321],\n",
       "       [ 1.4601482 ],\n",
       "       [ 1.72782591],\n",
       "       [ 3.2556303 ],\n",
       "       [ 3.30079103],\n",
       "       [ 4.23326031],\n",
       "       [ 2.87321506],\n",
       "       [ 2.26499679],\n",
       "       [ 1.72064754],\n",
       "       [ 0.81246071],\n",
       "       [ 0.96184856],\n",
       "       [ 2.06428734],\n",
       "       [ 2.03271923],\n",
       "       [ 4.18530287],\n",
       "       [ 0.4280563 ],\n",
       "       [ 2.05084785],\n",
       "       [ 2.72044706],\n",
       "       [ 0.08186475],\n",
       "       [ 4.89785771],\n",
       "       [ 0.37416215],\n",
       "       [ 1.7350753 ],\n",
       "       [ 2.12880477],\n",
       "       [ 0.74380176],\n",
       "       [ 1.57180254],\n",
       "       [ 2.65571402],\n",
       "       [ 0.17594808]])"
      ]
     },
     "execution_count": 6,
     "metadata": {},
     "output_type": "execute_result"
    }
   ],
   "source": [
    "y = 2 * X + 1 + 0.1 + np.random.randn(100,1)\n",
    "y"
   ]
  },
  {
   "cell_type": "code",
   "execution_count": 7,
   "metadata": {},
   "outputs": [
    {
     "data": {
      "image/png": "[encoded data removed]",
      "text/plain": [
       "<Figure size 640x480 with 1 Axes>"
      ]
     },
     "metadata": {},
     "output_type": "display_data"
    }
   ],
   "source": [
    "plt.scatter(X,y)\n",
    "plt.show()"
   ]
  },
  {
   "cell_type": "code",
   "execution_count": 8,
   "metadata": {},
   "outputs": [],
   "source": [
    "# Split dataset in train and test\n",
    "x_train, x_test, y_train, y_test = train_test_split(X, y, test_size = 0.2, random_state = 143)\n"
   ]
  },
  {
   "cell_type": "markdown",
   "metadata": {},
   "source": [
    "# Neural Network model"
   ]
  },
  {
   "cell_type": "code",
   "execution_count": 9,
   "metadata": {},
   "outputs": [],
   "source": [
    "model = Sequential([\n",
    "    layers.Input(shape=(1,)),               # Input Layer, only one neuron since one feature for one neuron; no.of features is same as no.of neurons in the input layer\n",
    "    layers.Dense(32, activation='relu'),    # Hidden layer with 32 neurons and ReLU activation function\n",
    "    layers.Dense(1)                         # Output layer with a Single Neuron (for regression problem)\n",
    "])"
   ]
  },
  {
   "cell_type": "markdown",
   "metadata": {},
   "source": [
    "# Model Compiling with an loss function and an optimizer"
   ]
  },
  {
   "cell_type": "code",
   "execution_count": 10,
   "metadata": {},
   "outputs": [],
   "source": [
    "model.compile(optimizer='adam', loss='mean_squared_error')"
   ]
  },
  {
   "cell_type": "markdown",
   "metadata": {},
   "source": [
    "# Train model"
   ]
  },
  {
   "cell_type": "code",
   "execution_count": 17,
   "metadata": {},
   "outputs": [
    {
     "name": "stdout",
     "output_type": "stream",
     "text": [
      "Train on 80 samples, validate on 20 samples\n",
      "Epoch 1/100\n",
      "80/80 [==============================] - 0s 2ms/sample - loss: 0.7395 - val_loss: 1.0383\n",
      "Epoch 2/100\n",
      "80/80 [==============================] - 0s 181us/sample - loss: 0.7396 - val_loss: 1.0386\n",
      "Epoch 3/100\n",
      "80/80 [==============================] - 0s 176us/sample - loss: 0.7396 - val_loss: 1.0388\n",
      "Epoch 4/100\n",
      "80/80 [==============================] - 0s 150us/sample - loss: 0.7394 - val_loss: 1.0394\n",
      "Epoch 5/100\n",
      "80/80 [==============================] - 0s 167us/sample - loss: 0.7395 - val_loss: 1.0401\n",
      "Epoch 6/100\n",
      "80/80 [==============================] - 0s 600us/sample - loss: 0.7396 - val_loss: 1.0408\n",
      "Epoch 7/100\n",
      "80/80 [==============================] - 0s 231us/sample - loss: 0.7396 - val_loss: 1.0411\n",
      "Epoch 8/100\n",
      "80/80 [==============================] - 0s 159us/sample - loss: 0.7398 - val_loss: 1.0415\n",
      "Epoch 9/100\n",
      "80/80 [==============================] - 0s 174us/sample - loss: 0.7396 - val_loss: 1.0416\n",
      "Epoch 10/100\n",
      "80/80 [==============================] - 0s 164us/sample - loss: 0.7397 - val_loss: 1.0416\n",
      "Epoch 11/100\n",
      "80/80 [==============================] - 0s 163us/sample - loss: 0.7396 - val_loss: 1.0417\n",
      "Epoch 12/100\n",
      "80/80 [==============================] - 0s 166us/sample - loss: 0.7397 - val_loss: 1.0418\n",
      "Epoch 13/100\n",
      "80/80 [==============================] - 0s 146us/sample - loss: 0.7397 - val_loss: 1.0416\n",
      "Epoch 14/100\n",
      "80/80 [==============================] - 0s 170us/sample - loss: 0.7397 - val_loss: 1.0417\n",
      "Epoch 15/100\n",
      "80/80 [==============================] - 0s 144us/sample - loss: 0.7396 - val_loss: 1.0417\n",
      "Epoch 16/100\n",
      "80/80 [==============================] - 0s 176us/sample - loss: 0.7396 - val_loss: 1.0416\n",
      "Epoch 17/100\n",
      "80/80 [==============================] - 0s 165us/sample - loss: 0.7396 - val_loss: 1.0418\n",
      "Epoch 18/100\n",
      "80/80 [==============================] - 0s 217us/sample - loss: 0.7398 - val_loss: 1.0421\n",
      "Epoch 19/100\n",
      "80/80 [==============================] - 0s 175us/sample - loss: 0.7397 - val_loss: 1.0418\n",
      "Epoch 20/100\n",
      "80/80 [==============================] - 0s 203us/sample - loss: 0.7397 - val_loss: 1.0418\n",
      "Epoch 21/100\n",
      "80/80 [==============================] - 0s 177us/sample - loss: 0.7396 - val_loss: 1.0415\n",
      "Epoch 22/100\n",
      "80/80 [==============================] - 0s 168us/sample - loss: 0.7396 - val_loss: 1.0412\n",
      "Epoch 23/100\n",
      "80/80 [==============================] - 0s 161us/sample - loss: 0.7396 - val_loss: 1.0408\n",
      "Epoch 24/100\n",
      "80/80 [==============================] - 0s 199us/sample - loss: 0.7398 - val_loss: 1.0404\n",
      "Epoch 25/100\n",
      "80/80 [==============================] - 0s 180us/sample - loss: 0.7396 - val_loss: 1.0404\n",
      "Epoch 26/100\n",
      "80/80 [==============================] - 0s 190us/sample - loss: 0.7396 - val_loss: 1.0406\n",
      "Epoch 27/100\n",
      "80/80 [==============================] - 0s 167us/sample - loss: 0.7397 - val_loss: 1.0409\n",
      "Epoch 28/100\n",
      "80/80 [==============================] - 0s 201us/sample - loss: 0.7396 - val_loss: 1.0408\n",
      "Epoch 29/100\n",
      "80/80 [==============================] - 0s 211us/sample - loss: 0.7396 - val_loss: 1.0407\n",
      "Epoch 30/100\n",
      "80/80 [==============================] - 0s 293us/sample - loss: 0.7396 - val_loss: 1.0408\n",
      "Epoch 31/100\n",
      "80/80 [==============================] - 0s 212us/sample - loss: 0.7397 - val_loss: 1.0410\n",
      "Epoch 32/100\n",
      "80/80 [==============================] - 0s 252us/sample - loss: 0.7396 - val_loss: 1.0408\n",
      "Epoch 33/100\n",
      "80/80 [==============================] - 0s 274us/sample - loss: 0.7396 - val_loss: 1.0405\n",
      "Epoch 34/100\n",
      "80/80 [==============================] - 0s 218us/sample - loss: 0.7396 - val_loss: 1.0401\n",
      "Epoch 35/100\n",
      "80/80 [==============================] - 0s 206us/sample - loss: 0.7397 - val_loss: 1.0396\n",
      "Epoch 36/100\n",
      "80/80 [==============================] - 0s 782us/sample - loss: 0.7396 - val_loss: 1.0393\n",
      "Epoch 37/100\n",
      "80/80 [==============================] - 0s 280us/sample - loss: 0.7395 - val_loss: 1.0392\n",
      "Epoch 38/100\n",
      "80/80 [==============================] - 0s 155us/sample - loss: 0.7395 - val_loss: 1.0391\n",
      "Epoch 39/100\n",
      "80/80 [==============================] - 0s 164us/sample - loss: 0.7395 - val_loss: 1.0389\n",
      "Epoch 40/100\n",
      "80/80 [==============================] - 0s 243us/sample - loss: 0.7396 - val_loss: 1.0385\n",
      "Epoch 41/100\n",
      "80/80 [==============================] - 0s 215us/sample - loss: 0.7396 - val_loss: 1.0382\n",
      "Epoch 42/100\n",
      "80/80 [==============================] - 0s 194us/sample - loss: 0.7396 - val_loss: 1.0380\n",
      "Epoch 43/100\n",
      "80/80 [==============================] - 0s 184us/sample - loss: 0.7395 - val_loss: 1.0378\n",
      "Epoch 44/100\n",
      "80/80 [==============================] - 0s 157us/sample - loss: 0.7396 - val_loss: 1.0374\n",
      "Epoch 45/100\n",
      "80/80 [==============================] - 0s 146us/sample - loss: 0.7396 - val_loss: 1.0371\n",
      "Epoch 46/100\n",
      "80/80 [==============================] - 0s 146us/sample - loss: 0.7396 - val_loss: 1.0370\n",
      "Epoch 47/100\n",
      "80/80 [==============================] - 0s 181us/sample - loss: 0.7396 - val_loss: 1.0371\n",
      "Epoch 48/100\n",
      "80/80 [==============================] - 0s 209us/sample - loss: 0.7395 - val_loss: 1.0373\n",
      "Epoch 49/100\n",
      "80/80 [==============================] - 0s 200us/sample - loss: 0.7396 - val_loss: 1.0377\n",
      "Epoch 50/100\n",
      "80/80 [==============================] - 0s 179us/sample - loss: 0.7395 - val_loss: 1.0379\n",
      "Epoch 51/100\n",
      "80/80 [==============================] - 0s 151us/sample - loss: 0.7398 - val_loss: 1.0384\n",
      "Epoch 52/100\n",
      "80/80 [==============================] - 0s 150us/sample - loss: 0.7396 - val_loss: 1.0386\n",
      "Epoch 53/100\n",
      "80/80 [==============================] - 0s 177us/sample - loss: 0.7396 - val_loss: 1.0386\n",
      "Epoch 54/100\n",
      "80/80 [==============================] - 0s 167us/sample - loss: 0.7396 - val_loss: 1.0383\n",
      "Epoch 55/100\n",
      "80/80 [==============================] - 0s 183us/sample - loss: 0.7395 - val_loss: 1.0381\n",
      "Epoch 56/100\n",
      "80/80 [==============================] - 0s 182us/sample - loss: 0.7395 - val_loss: 1.0380\n",
      "Epoch 57/100\n",
      "80/80 [==============================] - 0s 158us/sample - loss: 0.7396 - val_loss: 1.0379\n",
      "Epoch 58/100\n",
      "80/80 [==============================] - 0s 183us/sample - loss: 0.7395 - val_loss: 1.0380\n",
      "Epoch 59/100\n",
      "80/80 [==============================] - 0s 178us/sample - loss: 0.7396 - val_loss: 1.0382\n",
      "Epoch 60/100\n",
      "80/80 [==============================] - 0s 184us/sample - loss: 0.7396 - val_loss: 1.0388\n",
      "Epoch 61/100\n",
      "80/80 [==============================] - 0s 177us/sample - loss: 0.7396 - val_loss: 1.0390\n",
      "Epoch 62/100\n",
      "80/80 [==============================] - 0s 141us/sample - loss: 0.7396 - val_loss: 1.0394\n",
      "Epoch 63/100\n",
      "80/80 [==============================] - 0s 148us/sample - loss: 0.7396 - val_loss: 1.0395\n",
      "Epoch 64/100\n",
      "80/80 [==============================] - 0s 199us/sample - loss: 0.7395 - val_loss: 1.0395\n",
      "Epoch 65/100\n",
      "80/80 [==============================] - 0s 162us/sample - loss: 0.7396 - val_loss: 1.0394\n",
      "Epoch 66/100\n",
      "80/80 [==============================] - 0s 706us/sample - loss: 0.7396 - val_loss: 1.0396\n",
      "Epoch 67/100\n",
      "80/80 [==============================] - 0s 178us/sample - loss: 0.7395 - val_loss: 1.0402\n",
      "Epoch 68/100\n",
      "80/80 [==============================] - 0s 179us/sample - loss: 0.7395 - val_loss: 1.0407\n",
      "Epoch 69/100\n",
      "80/80 [==============================] - 0s 179us/sample - loss: 0.7395 - val_loss: 1.0411\n",
      "Epoch 70/100\n",
      "80/80 [==============================] - 0s 163us/sample - loss: 0.7396 - val_loss: 1.0414\n",
      "Epoch 71/100\n",
      "80/80 [==============================] - 0s 214us/sample - loss: 0.7397 - val_loss: 1.0419\n",
      "Epoch 72/100\n",
      "80/80 [==============================] - 0s 196us/sample - loss: 0.7396 - val_loss: 1.0418\n",
      "Epoch 73/100\n",
      "80/80 [==============================] - 0s 196us/sample - loss: 0.7397 - val_loss: 1.0417\n",
      "Epoch 74/100\n",
      "80/80 [==============================] - 0s 514us/sample - loss: 0.7396 - val_loss: 1.0417\n",
      "Epoch 75/100\n",
      "80/80 [==============================] - 0s 175us/sample - loss: 0.7396 - val_loss: 1.0413\n",
      "Epoch 76/100\n",
      "80/80 [==============================] - 0s 178us/sample - loss: 0.7396 - val_loss: 1.0410\n",
      "Epoch 77/100\n",
      "80/80 [==============================] - 0s 171us/sample - loss: 0.7397 - val_loss: 1.0405\n",
      "Epoch 78/100\n",
      "80/80 [==============================] - 0s 190us/sample - loss: 0.7396 - val_loss: 1.0403\n",
      "Epoch 79/100\n",
      "80/80 [==============================] - 0s 203us/sample - loss: 0.7396 - val_loss: 1.0400\n",
      "Epoch 80/100\n",
      "80/80 [==============================] - 0s 209us/sample - loss: 0.7396 - val_loss: 1.0397\n",
      "Epoch 81/100\n",
      "80/80 [==============================] - 0s 252us/sample - loss: 0.7396 - val_loss: 1.0395\n",
      "Epoch 82/100\n",
      "80/80 [==============================] - 0s 193us/sample - loss: 0.7398 - val_loss: 1.0393\n",
      "Epoch 83/100\n",
      "80/80 [==============================] - 0s 187us/sample - loss: 0.7397 - val_loss: 1.0395\n",
      "Epoch 84/100\n",
      "80/80 [==============================] - 0s 190us/sample - loss: 0.7396 - val_loss: 1.0392\n",
      "Epoch 85/100\n",
      "80/80 [==============================] - 0s 209us/sample - loss: 0.7395 - val_loss: 1.0391\n",
      "Epoch 86/100\n",
      "80/80 [==============================] - 0s 210us/sample - loss: 0.7395 - val_loss: 1.0389\n",
      "Epoch 87/100\n",
      "80/80 [==============================] - 0s 184us/sample - loss: 0.7396 - val_loss: 1.0390\n",
      "Epoch 88/100\n",
      "80/80 [==============================] - 0s 179us/sample - loss: 0.7396 - val_loss: 1.0389\n",
      "Epoch 89/100\n",
      "80/80 [==============================] - 0s 165us/sample - loss: 0.7395 - val_loss: 1.0392\n",
      "Epoch 90/100\n",
      "80/80 [==============================] - 0s 165us/sample - loss: 0.7396 - val_loss: 1.0394\n",
      "Epoch 91/100\n",
      "80/80 [==============================] - 0s 175us/sample - loss: 0.7395 - val_loss: 1.0393\n",
      "Epoch 92/100\n",
      "80/80 [==============================] - 0s 189us/sample - loss: 0.7396 - val_loss: 1.0391\n",
      "Epoch 93/100\n",
      "80/80 [==============================] - 0s 711us/sample - loss: 0.7395 - val_loss: 1.0390\n",
      "Epoch 94/100\n",
      "80/80 [==============================] - 0s 169us/sample - loss: 0.7396 - val_loss: 1.0392\n",
      "Epoch 95/100\n",
      "80/80 [==============================] - 0s 176us/sample - loss: 0.7395 - val_loss: 1.0392\n",
      "Epoch 96/100\n",
      "80/80 [==============================] - 0s 162us/sample - loss: 0.7395 - val_loss: 1.0391\n",
      "Epoch 97/100\n",
      "80/80 [==============================] - 0s 145us/sample - loss: 0.7396 - val_loss: 1.0387\n",
      "Epoch 98/100\n",
      "80/80 [==============================] - 0s 132us/sample - loss: 0.7396 - val_loss: 1.0386\n",
      "Epoch 99/100\n",
      "80/80 [==============================] - 0s 167us/sample - loss: 0.7395 - val_loss: 1.0388\n",
      "Epoch 100/100\n",
      "80/80 [==============================] - 0s 166us/sample - loss: 0.7396 - val_loss: 1.0390\n"
     ]
    },
    {
     "data": {
      "text/plain": [
       "<tensorflow.python.keras.callbacks.History at 0x217f8d945f8>"
      ]
     },
     "execution_count": 17,
     "metadata": {},
     "output_type": "execute_result"
    }
   ],
   "source": [
    "# epochs and batch size can be adjusted based on data size\n",
    "model.fit(x_train,y_train, epochs=100, batch_size=32, validation_data=(x_test,y_test))"
   ]
  },
  {
   "cell_type": "markdown",
   "metadata": {},
   "source": [
    "# Model Evaluation"
   ]
  },
  {
   "cell_type": "code",
   "execution_count": 12,
   "metadata": {},
   "outputs": [
    {
     "name": "stdout",
     "output_type": "stream",
     "text": [
      "20/1 [========================================================================================================================================================================================================================================================================================================================================================================================================================================================================================================================================================================================================================] - 0s 3ms/sample - loss: 1.0403\n"
     ]
    },
    {
     "data": {
      "text/plain": [
       "1.040329933166504"
      ]
     },
     "execution_count": 12,
     "metadata": {},
     "output_type": "execute_result"
    }
   ],
   "source": [
    "test_loss = model.evaluate(x_test,y_test)\n",
    "test_loss"
   ]
  },
  {
   "cell_type": "markdown",
   "metadata": {},
   "source": [
    "# Make predictions"
   ]
  },
  {
   "cell_type": "code",
   "execution_count": 13,
   "metadata": {},
   "outputs": [
    {
     "data": {
      "text/plain": [
       "array([[1.9558519],\n",
       "       [2.5930228]], dtype=float32)"
      ]
     },
     "execution_count": 13,
     "metadata": {},
     "output_type": "execute_result"
    }
   ],
   "source": [
    "# using the trained model to make predictions on new data\n",
    "new_data = np.array([[0.5], [0.8]])\n",
    "predictions = model.predict(new_data)\n",
    "predictions"
   ]
  },
  {
   "cell_type": "markdown",
   "metadata": {},
   "source": [
    "# Results Plotting"
   ]
  },
  {
   "cell_type": "code",
   "execution_count": 14,
   "metadata": {},
   "outputs": [
    {
     "data": {
      "image/png": "[encoded data removed]",
      "text/plain": [
       "<Figure size 640x480 with 1 Axes>"
      ]
     },
     "metadata": {},
     "output_type": "display_data"
    }
   ],
   "source": [
    "plt.scatter(x_train, y_train, label='training-data')\n",
    "plt.scatter(x_test, y_test, label='testing_data')\n",
    "plt.xlabel('x')\n",
    "plt.ylabel('y')\n",
    "plt.legend()\n",
    "plt.title('Neural Network Regression')\n",
    "plt.show()"
   ]
  }
 ],
 "metadata": {
  "kernelspec": {
   "display_name": "Python 3",
   "language": "python",
   "name": "python3"
  },
  "language_info": {
   "codemirror_mode": {
    "name": "ipython",
    "version": 3
   },
   "file_extension": ".py",
   "mimetype": "text/x-python",
   "name": "python",
   "nbconvert_exporter": "python",
   "pygments_lexer": "ipython3",
   "version": "3.7.1"
  }
 },
 "nbformat": 4,
 "nbformat_minor": 2
}
