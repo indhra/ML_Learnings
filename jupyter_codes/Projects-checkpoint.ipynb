{
 "cells": [
  {
   "cell_type": "code",
   "execution_count": 3,
   "metadata": {},
   "outputs": [],
   "source": [
    "import pandas as pd\n",
    "import numpy as np"
   ]
  },
  {
   "cell_type": "code",
   "execution_count": 4,
   "metadata": {},
   "outputs": [],
   "source": [
    "import cantools"
   ]
  },
  {
   "cell_type": "code",
   "execution_count": 5,
   "metadata": {},
   "outputs": [
    {
     "data": {
      "text/plain": [
       "['Pack_Temperature_State_P13',\n",
       " 'Pack_Temperature_State_P14',\n",
       " 'Pack_Temperature_State_P4',\n",
       " 'Pack_Temperature_State_P5',\n",
       " 'Pack_Temperature_State_P6',\n",
       " 'Pack_Temperature_State_P7',\n",
       " 'Pack_Temperature_State_P8',\n",
       " 'PlugChrg_Stat',\n",
       " 'ReqVoltCtrl_Stat_HVB',\n",
       " 'SHVB_Bal_Stat',\n",
       " 'SHVB_Heat_Stat',\n",
       " 'State_P13',\n",
       " 'State_P14',\n",
       " 'State_P4',\n",
       " 'State_P5',\n",
       " 'State_P6',\n",
       " 'State_P7',\n",
       " 'State_P8']"
      ]
     },
     "execution_count": 5,
     "metadata": {},
     "output_type": "execute_result"
    }
   ],
   "source": [
    "mainfile = pd.read_excel(r\"\\\\srtif006\\Global_ATS_Data\\05.Electic_Vehicle_Data\\KFE\\02_Members\\09_Uddipan\\LMP\\DataMining\\final_report\\27Apr_05May\\floating_9828_27_04_2021_03_05_2021.xlsx\", engine='openpyxl')\n",
    "mainfile = mainfile.Signal.unique()\n",
    "signalsList = mainfile.tolist()\n",
    "signalsList"
   ]
  },
  {
   "cell_type": "code",
   "execution_count": null,
   "metadata": {},
   "outputs": [],
   "source": [
    "file = pd.read_excel(r\"C:\\Users\\indhrna\\Desktop\\Projects\\dbc_LMP\\value_text_dtc_lmp.xlsx\", engine='openpyxl',header=None)\n",
    "# file = file[0]#.str.split(',')[:].split(' ')\n",
    "file = file.rename(columns = {0: 'signals'})\n",
    "type(file.signals[0])\n",
    "\n",
    "a = file.signals.str.contains(signalsList)"
   ]
  },
  {
   "cell_type": "code",
   "execution_count": null,
   "metadata": {},
   "outputs": [],
   "source": [
    "short = file[0].str.split(' ').to_frame()#.contains(signals)\n",
    "type(short[0][1][0:])\n",
    "\n",
    "# short.to_csv(r\"C:\\Users\\indhrna\\Desktop\\Projects\\dbc_LMP\\chk.csv\")"
   ]
  },
  {
   "cell_type": "code",
   "execution_count": 2,
   "metadata": {},
   "outputs": [],
   "source": [
    "\n",
    "import cantools\n",
    "\n",
    "def getEnumDict(Signals_list):\n",
    "    dbc_list_to_search_Signals = ['\\HV_BATTERY_CAN_dbc_2019_07a.dbc','\\VCCU_Debug_CAN.dbc']\n",
    "    path_to_dbc_list = r'C:\\Users\\UDDPAUL\\Desktop\\configurations_CANape\\eCitaro_LMP\\02_DBCs'\n",
    "    \n",
    "    #Signals_list = ['ControlPilot_DutyCycle_State', 'Intern_Abort_EvseStatus', 'VoltCtrl_Stat_VCCU']\n",
    "    \n",
    "    Signal_List_Yes = []\n",
    "    enumDict = {}\n",
    "    num = 1\n",
    "    for dbc in dbc_list_to_search_Signals:\n",
    "        db = cantools.database.load_file(path_to_dbc_list + dbc)\n",
    "        Messages = db.messages\n",
    "        for i in range(0,len(Messages)):\n",
    "            Message_Name = Messages[i].name\n",
    "            Signal_tree = (Messages[i].signal_tree)\n",
    "            for signal in Signals_list:\n",
    "                if signal not in Signal_List_Yes:\n",
    "                    if signal in Signal_tree:\n",
    "                        index = Signal_tree.index(signal)\n",
    "                        if ((Messages[i].signals[index]).choices) == None:\n",
    "                            pass\n",
    "                        else:\n",
    "                            enumDict[Messages[i].signals[index].name] = dict((Messages[i].signals[index]).choices)\n",
    "                        num = num + 1\n",
    "                        Signal_List_Yes.append(signal)\n",
    "    return(enumDict)\n",
    "    \n",
    "#enumDict.get('ControlPilot_DutyCycle_State', {}).get(1)"
   ]
  },
  {
   "cell_type": "code",
   "execution_count": null,
   "metadata": {},
   "outputs": [],
   "source": []
  }
 ],
 "metadata": {
  "kernelspec": {
   "display_name": "Python 3",
   "language": "python",
   "name": "python3"
  },
  "language_info": {
   "codemirror_mode": {
    "name": "ipython",
    "version": 3
   },
   "file_extension": ".py",
   "mimetype": "text/x-python",
   "name": "python",
   "nbconvert_exporter": "python",
   "pygments_lexer": "ipython3",
   "version": "3.8.5"
  }
 },
 "nbformat": 4,
 "nbformat_minor": 5
}
